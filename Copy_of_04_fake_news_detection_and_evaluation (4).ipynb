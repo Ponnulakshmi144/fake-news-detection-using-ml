{
  "nbformat": 4,
  "nbformat_minor": 0,
  "metadata": {
    "colab": {
      "provenance": []
    },
    "kernelspec": {
      "name": "python3",
      "display_name": "Python 3"
    },
    "language_info": {
      "name": "python"
    }
  },
  "cells": [
    {
      "cell_type": "markdown",
      "source": [
        "#**Project Name: Fake News Detection and Evaluation with Confusion Matrix**\n",
        "####**created by: Suprava Das**"
      ],
      "metadata": {
        "id": "1yvQMZ1cTPbm"
      }
    },
    {
      "cell_type": "markdown",
      "source": [
        "# **Problem Statement:**\n"
      ],
      "metadata": {
        "id": "d54yPWrsICZS"
      }
    },
    {
      "cell_type": "markdown",
      "source": [
        "This project addresses the challenge of distinguishing fake news from true news using machine learning techniques. A classification model is trained on textual data, and its effectiveness is evaluated through a confusion matrix to assess accuracy and misclassification patterns."
      ],
      "metadata": {
        "id": "_9cBrQ6oInIy"
      }
    },
    {
      "cell_type": "markdown",
      "source": [
        "# **Data Introduction:**"
      ],
      "metadata": {
        "id": "se8calhAIy8h"
      }
    },
    {
      "cell_type": "markdown",
      "source": [
        "This dataset was compiled from real-world sources; the genuine articles were scraped from Reuters.com (a reputable news website). In contrast, the fake news articles were gathered from various unreliable platforms identified by Politifact (a U.S.-based fact-checking organization) and Wikipedia. The collection covers articles on diverse subjects, though most of them center around politics and world news.\n",
        "\n",
        "The dataset cab also be downloaded from kaggle using the link: www.kaggle.com/datasets/emineyetm/fake-news-detection-datasets"
      ],
      "metadata": {
        "id": "C-cQiBSbI6vB"
      }
    },
    {
      "cell_type": "markdown",
      "source": [
        "# **Import Packages**"
      ],
      "metadata": {
        "id": "Vr0Ag7NJT4gq"
      }
    },
    {
      "cell_type": "markdown",
      "source": [
        "Imported all required libraries and installed any missing packages in Google Colab."
      ],
      "metadata": {
        "id": "CN9d_su1N80T"
      }
    },
    {
      "cell_type": "code",
      "source": [
        "# installed missing package gensim\n",
        "!pip install gensim"
      ],
      "metadata": {
        "colab": {
          "base_uri": "https://localhost:8080/"
        },
        "id": "6ey3ayHNIOre",
        "outputId": "bcea4bff-11d5-4e01-fe08-a165393770de"
      },
      "execution_count": null,
      "outputs": [
        {
          "output_type": "stream",
          "name": "stdout",
          "text": [
            "Requirement already satisfied: gensim in /usr/local/lib/python3.12/dist-packages (4.3.3)\n",
            "Requirement already satisfied: numpy<2.0,>=1.18.5 in /usr/local/lib/python3.12/dist-packages (from gensim) (1.26.4)\n",
            "Requirement already satisfied: scipy<1.14.0,>=1.7.0 in /usr/local/lib/python3.12/dist-packages (from gensim) (1.13.1)\n",
            "Requirement already satisfied: smart-open>=1.8.1 in /usr/local/lib/python3.12/dist-packages (from gensim) (7.3.1)\n",
            "Requirement already satisfied: wrapt in /usr/local/lib/python3.12/dist-packages (from smart-open>=1.8.1->gensim) (1.17.3)\n"
          ]
        }
      ]
    },
    {
      "cell_type": "code",
      "execution_count": null,
      "metadata": {
        "colab": {
          "base_uri": "https://localhost:8080/"
        },
        "id": "2YCYCgAyBi4t",
        "outputId": "f6fb4cb4-f4f2-4135-a5e5-22612e212838"
      },
      "outputs": [
        {
          "output_type": "stream",
          "name": "stdout",
          "text": [
            "Mounted at /content/drive\n"
          ]
        }
      ],
      "source": [
        "# import necessary packages\n",
        "import  matplotlib.pyplot as plt\n",
        "import pandas as pd\n",
        "import numpy as np\n",
        "import seaborn as sns\n",
        "import re\n",
        "import string\n",
        "from sklearn.model_selection import train_test_split\n",
        "from gensim.test.utils import common_texts\n",
        "from gensim.models import Word2Vec\n",
        "from sklearn.metrics import accuracy_score, precision_score, recall_score, f1_score\n",
        "\n",
        "# mounted the drive\n",
        "from google.colab import drive\n",
        "drive.mount('/content/drive')"
      ]
    },
    {
      "cell_type": "markdown",
      "source": [
        "#**Data Preprocessing**"
      ],
      "metadata": {
        "id": "ba3PZ1ZsTuI0"
      }
    },
    {
      "cell_type": "code",
      "source": [
        "# read the csv file using pandas dataframe\n",
        "fake_news_data = pd.read_csv('/content/fake.csv')\n",
        "true_news_data = pd.read_csv('/content/true.csv')"
      ],
      "metadata": {
        "id": "q6XykTJIC-cR"
      },
      "execution_count": null,
      "outputs": []
    },
    {
      "cell_type": "markdown",
      "source": [
        "**Q1.** View the imported csv file data using Pandas Dataframe."
      ],
      "metadata": {
        "id": "ZzHOTkU0Qg3z"
      }
    },
    {
      "cell_type": "code",
      "source": [
        "fake_news_data"
      ],
      "metadata": {
        "colab": {
          "base_uri": "https://localhost:8080/",
          "height": 423
        },
        "id": "5GQuWf_cszhQ",
        "outputId": "3efa6246-fcd6-453c-ac7e-573ff803d1e5"
      },
      "execution_count": null,
      "outputs": [
        {
          "output_type": "execute_result",
          "data": {
            "text/plain": [
              "                                                   title  \\\n",
              "0       Donald Trump Sends Out Embarrassing New Year’...   \n",
              "1       Drunk Bragging Trump Staffer Started Russian ...   \n",
              "2       Sheriff David Clarke Becomes An Internet Joke...   \n",
              "3       Trump Is So Obsessed He Even Has Obama’s Name...   \n",
              "4       Pope Francis Just Called Out Donald Trump Dur...   \n",
              "...                                                  ...   \n",
              "23476  McPain: John McCain Furious That Iran Treated ...   \n",
              "23477  JUSTICE? Yahoo Settles E-mail Privacy Class-ac...   \n",
              "23478  Sunnistan: US and Allied ‘Safe Zone’ Plan to T...   \n",
              "23479  How to Blow $700 Million: Al Jazeera America F...   \n",
              "23480  10 U.S. Navy Sailors Held by Iranian Military ...   \n",
              "\n",
              "                                                    text      subject  \\\n",
              "0      Donald Trump just couldn t wish all Americans ...         News   \n",
              "1      House Intelligence Committee Chairman Devin Nu...         News   \n",
              "2      On Friday, it was revealed that former Milwauk...         News   \n",
              "3      On Christmas day, Donald Trump announced that ...         News   \n",
              "4      Pope Francis used his annual Christmas Day mes...         News   \n",
              "...                                                  ...          ...   \n",
              "23476  21st Century Wire says As 21WIRE reported earl...  Middle-east   \n",
              "23477  21st Century Wire says It s a familiar theme. ...  Middle-east   \n",
              "23478  Patrick Henningsen  21st Century WireRemember ...  Middle-east   \n",
              "23479  21st Century Wire says Al Jazeera America will...  Middle-east   \n",
              "23480  21st Century Wire says As 21WIRE predicted in ...  Middle-east   \n",
              "\n",
              "                    date  \n",
              "0      December 31, 2017  \n",
              "1      December 31, 2017  \n",
              "2      December 30, 2017  \n",
              "3      December 29, 2017  \n",
              "4      December 25, 2017  \n",
              "...                  ...  \n",
              "23476   January 16, 2016  \n",
              "23477   January 16, 2016  \n",
              "23478   January 15, 2016  \n",
              "23479   January 14, 2016  \n",
              "23480   January 12, 2016  \n",
              "\n",
              "[23481 rows x 4 columns]"
            ],
            "text/html": [
              "\n",
              "  <div id=\"df-f435cad5-1f5e-4990-bf83-a45dc2d7da43\" class=\"colab-df-container\">\n",
              "    <div>\n",
              "<style scoped>\n",
              "    .dataframe tbody tr th:only-of-type {\n",
              "        vertical-align: middle;\n",
              "    }\n",
              "\n",
              "    .dataframe tbody tr th {\n",
              "        vertical-align: top;\n",
              "    }\n",
              "\n",
              "    .dataframe thead th {\n",
              "        text-align: right;\n",
              "    }\n",
              "</style>\n",
              "<table border=\"1\" class=\"dataframe\">\n",
              "  <thead>\n",
              "    <tr style=\"text-align: right;\">\n",
              "      <th></th>\n",
              "      <th>title</th>\n",
              "      <th>text</th>\n",
              "      <th>subject</th>\n",
              "      <th>date</th>\n",
              "    </tr>\n",
              "  </thead>\n",
              "  <tbody>\n",
              "    <tr>\n",
              "      <th>0</th>\n",
              "      <td>Donald Trump Sends Out Embarrassing New Year’...</td>\n",
              "      <td>Donald Trump just couldn t wish all Americans ...</td>\n",
              "      <td>News</td>\n",
              "      <td>December 31, 2017</td>\n",
              "    </tr>\n",
              "    <tr>\n",
              "      <th>1</th>\n",
              "      <td>Drunk Bragging Trump Staffer Started Russian ...</td>\n",
              "      <td>House Intelligence Committee Chairman Devin Nu...</td>\n",
              "      <td>News</td>\n",
              "      <td>December 31, 2017</td>\n",
              "    </tr>\n",
              "    <tr>\n",
              "      <th>2</th>\n",
              "      <td>Sheriff David Clarke Becomes An Internet Joke...</td>\n",
              "      <td>On Friday, it was revealed that former Milwauk...</td>\n",
              "      <td>News</td>\n",
              "      <td>December 30, 2017</td>\n",
              "    </tr>\n",
              "    <tr>\n",
              "      <th>3</th>\n",
              "      <td>Trump Is So Obsessed He Even Has Obama’s Name...</td>\n",
              "      <td>On Christmas day, Donald Trump announced that ...</td>\n",
              "      <td>News</td>\n",
              "      <td>December 29, 2017</td>\n",
              "    </tr>\n",
              "    <tr>\n",
              "      <th>4</th>\n",
              "      <td>Pope Francis Just Called Out Donald Trump Dur...</td>\n",
              "      <td>Pope Francis used his annual Christmas Day mes...</td>\n",
              "      <td>News</td>\n",
              "      <td>December 25, 2017</td>\n",
              "    </tr>\n",
              "    <tr>\n",
              "      <th>...</th>\n",
              "      <td>...</td>\n",
              "      <td>...</td>\n",
              "      <td>...</td>\n",
              "      <td>...</td>\n",
              "    </tr>\n",
              "    <tr>\n",
              "      <th>23476</th>\n",
              "      <td>McPain: John McCain Furious That Iran Treated ...</td>\n",
              "      <td>21st Century Wire says As 21WIRE reported earl...</td>\n",
              "      <td>Middle-east</td>\n",
              "      <td>January 16, 2016</td>\n",
              "    </tr>\n",
              "    <tr>\n",
              "      <th>23477</th>\n",
              "      <td>JUSTICE? Yahoo Settles E-mail Privacy Class-ac...</td>\n",
              "      <td>21st Century Wire says It s a familiar theme. ...</td>\n",
              "      <td>Middle-east</td>\n",
              "      <td>January 16, 2016</td>\n",
              "    </tr>\n",
              "    <tr>\n",
              "      <th>23478</th>\n",
              "      <td>Sunnistan: US and Allied ‘Safe Zone’ Plan to T...</td>\n",
              "      <td>Patrick Henningsen  21st Century WireRemember ...</td>\n",
              "      <td>Middle-east</td>\n",
              "      <td>January 15, 2016</td>\n",
              "    </tr>\n",
              "    <tr>\n",
              "      <th>23479</th>\n",
              "      <td>How to Blow $700 Million: Al Jazeera America F...</td>\n",
              "      <td>21st Century Wire says Al Jazeera America will...</td>\n",
              "      <td>Middle-east</td>\n",
              "      <td>January 14, 2016</td>\n",
              "    </tr>\n",
              "    <tr>\n",
              "      <th>23480</th>\n",
              "      <td>10 U.S. Navy Sailors Held by Iranian Military ...</td>\n",
              "      <td>21st Century Wire says As 21WIRE predicted in ...</td>\n",
              "      <td>Middle-east</td>\n",
              "      <td>January 12, 2016</td>\n",
              "    </tr>\n",
              "  </tbody>\n",
              "</table>\n",
              "<p>23481 rows × 4 columns</p>\n",
              "</div>\n",
              "    <div class=\"colab-df-buttons\">\n",
              "\n",
              "  <div class=\"colab-df-container\">\n",
              "    <button class=\"colab-df-convert\" onclick=\"convertToInteractive('df-f435cad5-1f5e-4990-bf83-a45dc2d7da43')\"\n",
              "            title=\"Convert this dataframe to an interactive table.\"\n",
              "            style=\"display:none;\">\n",
              "\n",
              "  <svg xmlns=\"http://www.w3.org/2000/svg\" height=\"24px\" viewBox=\"0 -960 960 960\">\n",
              "    <path d=\"M120-120v-720h720v720H120Zm60-500h600v-160H180v160Zm220 220h160v-160H400v160Zm0 220h160v-160H400v160ZM180-400h160v-160H180v160Zm440 0h160v-160H620v160ZM180-180h160v-160H180v160Zm440 0h160v-160H620v160Z\"/>\n",
              "  </svg>\n",
              "    </button>\n",
              "\n",
              "  <style>\n",
              "    .colab-df-container {\n",
              "      display:flex;\n",
              "      gap: 12px;\n",
              "    }\n",
              "\n",
              "    .colab-df-convert {\n",
              "      background-color: #E8F0FE;\n",
              "      border: none;\n",
              "      border-radius: 50%;\n",
              "      cursor: pointer;\n",
              "      display: none;\n",
              "      fill: #1967D2;\n",
              "      height: 32px;\n",
              "      padding: 0 0 0 0;\n",
              "      width: 32px;\n",
              "    }\n",
              "\n",
              "    .colab-df-convert:hover {\n",
              "      background-color: #E2EBFA;\n",
              "      box-shadow: 0px 1px 2px rgba(60, 64, 67, 0.3), 0px 1px 3px 1px rgba(60, 64, 67, 0.15);\n",
              "      fill: #174EA6;\n",
              "    }\n",
              "\n",
              "    .colab-df-buttons div {\n",
              "      margin-bottom: 4px;\n",
              "    }\n",
              "\n",
              "    [theme=dark] .colab-df-convert {\n",
              "      background-color: #3B4455;\n",
              "      fill: #D2E3FC;\n",
              "    }\n",
              "\n",
              "    [theme=dark] .colab-df-convert:hover {\n",
              "      background-color: #434B5C;\n",
              "      box-shadow: 0px 1px 3px 1px rgba(0, 0, 0, 0.15);\n",
              "      filter: drop-shadow(0px 1px 2px rgba(0, 0, 0, 0.3));\n",
              "      fill: #FFFFFF;\n",
              "    }\n",
              "  </style>\n",
              "\n",
              "    <script>\n",
              "      const buttonEl =\n",
              "        document.querySelector('#df-f435cad5-1f5e-4990-bf83-a45dc2d7da43 button.colab-df-convert');\n",
              "      buttonEl.style.display =\n",
              "        google.colab.kernel.accessAllowed ? 'block' : 'none';\n",
              "\n",
              "      async function convertToInteractive(key) {\n",
              "        const element = document.querySelector('#df-f435cad5-1f5e-4990-bf83-a45dc2d7da43');\n",
              "        const dataTable =\n",
              "          await google.colab.kernel.invokeFunction('convertToInteractive',\n",
              "                                                    [key], {});\n",
              "        if (!dataTable) return;\n",
              "\n",
              "        const docLinkHtml = 'Like what you see? Visit the ' +\n",
              "          '<a target=\"_blank\" href=https://colab.research.google.com/notebooks/data_table.ipynb>data table notebook</a>'\n",
              "          + ' to learn more about interactive tables.';\n",
              "        element.innerHTML = '';\n",
              "        dataTable['output_type'] = 'display_data';\n",
              "        await google.colab.output.renderOutput(dataTable, element);\n",
              "        const docLink = document.createElement('div');\n",
              "        docLink.innerHTML = docLinkHtml;\n",
              "        element.appendChild(docLink);\n",
              "      }\n",
              "    </script>\n",
              "  </div>\n",
              "\n",
              "\n",
              "    <div id=\"df-c5719f45-dd8f-481e-9886-f46186401b4a\">\n",
              "      <button class=\"colab-df-quickchart\" onclick=\"quickchart('df-c5719f45-dd8f-481e-9886-f46186401b4a')\"\n",
              "                title=\"Suggest charts\"\n",
              "                style=\"display:none;\">\n",
              "\n",
              "<svg xmlns=\"http://www.w3.org/2000/svg\" height=\"24px\"viewBox=\"0 0 24 24\"\n",
              "     width=\"24px\">\n",
              "    <g>\n",
              "        <path d=\"M19 3H5c-1.1 0-2 .9-2 2v14c0 1.1.9 2 2 2h14c1.1 0 2-.9 2-2V5c0-1.1-.9-2-2-2zM9 17H7v-7h2v7zm4 0h-2V7h2v10zm4 0h-2v-4h2v4z\"/>\n",
              "    </g>\n",
              "</svg>\n",
              "      </button>\n",
              "\n",
              "<style>\n",
              "  .colab-df-quickchart {\n",
              "      --bg-color: #E8F0FE;\n",
              "      --fill-color: #1967D2;\n",
              "      --hover-bg-color: #E2EBFA;\n",
              "      --hover-fill-color: #174EA6;\n",
              "      --disabled-fill-color: #AAA;\n",
              "      --disabled-bg-color: #DDD;\n",
              "  }\n",
              "\n",
              "  [theme=dark] .colab-df-quickchart {\n",
              "      --bg-color: #3B4455;\n",
              "      --fill-color: #D2E3FC;\n",
              "      --hover-bg-color: #434B5C;\n",
              "      --hover-fill-color: #FFFFFF;\n",
              "      --disabled-bg-color: #3B4455;\n",
              "      --disabled-fill-color: #666;\n",
              "  }\n",
              "\n",
              "  .colab-df-quickchart {\n",
              "    background-color: var(--bg-color);\n",
              "    border: none;\n",
              "    border-radius: 50%;\n",
              "    cursor: pointer;\n",
              "    display: none;\n",
              "    fill: var(--fill-color);\n",
              "    height: 32px;\n",
              "    padding: 0;\n",
              "    width: 32px;\n",
              "  }\n",
              "\n",
              "  .colab-df-quickchart:hover {\n",
              "    background-color: var(--hover-bg-color);\n",
              "    box-shadow: 0 1px 2px rgba(60, 64, 67, 0.3), 0 1px 3px 1px rgba(60, 64, 67, 0.15);\n",
              "    fill: var(--button-hover-fill-color);\n",
              "  }\n",
              "\n",
              "  .colab-df-quickchart-complete:disabled,\n",
              "  .colab-df-quickchart-complete:disabled:hover {\n",
              "    background-color: var(--disabled-bg-color);\n",
              "    fill: var(--disabled-fill-color);\n",
              "    box-shadow: none;\n",
              "  }\n",
              "\n",
              "  .colab-df-spinner {\n",
              "    border: 2px solid var(--fill-color);\n",
              "    border-color: transparent;\n",
              "    border-bottom-color: var(--fill-color);\n",
              "    animation:\n",
              "      spin 1s steps(1) infinite;\n",
              "  }\n",
              "\n",
              "  @keyframes spin {\n",
              "    0% {\n",
              "      border-color: transparent;\n",
              "      border-bottom-color: var(--fill-color);\n",
              "      border-left-color: var(--fill-color);\n",
              "    }\n",
              "    20% {\n",
              "      border-color: transparent;\n",
              "      border-left-color: var(--fill-color);\n",
              "      border-top-color: var(--fill-color);\n",
              "    }\n",
              "    30% {\n",
              "      border-color: transparent;\n",
              "      border-left-color: var(--fill-color);\n",
              "      border-top-color: var(--fill-color);\n",
              "      border-right-color: var(--fill-color);\n",
              "    }\n",
              "    40% {\n",
              "      border-color: transparent;\n",
              "      border-right-color: var(--fill-color);\n",
              "      border-top-color: var(--fill-color);\n",
              "    }\n",
              "    60% {\n",
              "      border-color: transparent;\n",
              "      border-right-color: var(--fill-color);\n",
              "    }\n",
              "    80% {\n",
              "      border-color: transparent;\n",
              "      border-right-color: var(--fill-color);\n",
              "      border-bottom-color: var(--fill-color);\n",
              "    }\n",
              "    90% {\n",
              "      border-color: transparent;\n",
              "      border-bottom-color: var(--fill-color);\n",
              "    }\n",
              "  }\n",
              "</style>\n",
              "\n",
              "      <script>\n",
              "        async function quickchart(key) {\n",
              "          const quickchartButtonEl =\n",
              "            document.querySelector('#' + key + ' button');\n",
              "          quickchartButtonEl.disabled = true;  // To prevent multiple clicks.\n",
              "          quickchartButtonEl.classList.add('colab-df-spinner');\n",
              "          try {\n",
              "            const charts = await google.colab.kernel.invokeFunction(\n",
              "                'suggestCharts', [key], {});\n",
              "          } catch (error) {\n",
              "            console.error('Error during call to suggestCharts:', error);\n",
              "          }\n",
              "          quickchartButtonEl.classList.remove('colab-df-spinner');\n",
              "          quickchartButtonEl.classList.add('colab-df-quickchart-complete');\n",
              "        }\n",
              "        (() => {\n",
              "          let quickchartButtonEl =\n",
              "            document.querySelector('#df-c5719f45-dd8f-481e-9886-f46186401b4a button');\n",
              "          quickchartButtonEl.style.display =\n",
              "            google.colab.kernel.accessAllowed ? 'block' : 'none';\n",
              "        })();\n",
              "      </script>\n",
              "    </div>\n",
              "\n",
              "  <div id=\"id_d4d2dc10-e2a8-4ec5-b302-35bd2ac05375\">\n",
              "    <style>\n",
              "      .colab-df-generate {\n",
              "        background-color: #E8F0FE;\n",
              "        border: none;\n",
              "        border-radius: 50%;\n",
              "        cursor: pointer;\n",
              "        display: none;\n",
              "        fill: #1967D2;\n",
              "        height: 32px;\n",
              "        padding: 0 0 0 0;\n",
              "        width: 32px;\n",
              "      }\n",
              "\n",
              "      .colab-df-generate:hover {\n",
              "        background-color: #E2EBFA;\n",
              "        box-shadow: 0px 1px 2px rgba(60, 64, 67, 0.3), 0px 1px 3px 1px rgba(60, 64, 67, 0.15);\n",
              "        fill: #174EA6;\n",
              "      }\n",
              "\n",
              "      [theme=dark] .colab-df-generate {\n",
              "        background-color: #3B4455;\n",
              "        fill: #D2E3FC;\n",
              "      }\n",
              "\n",
              "      [theme=dark] .colab-df-generate:hover {\n",
              "        background-color: #434B5C;\n",
              "        box-shadow: 0px 1px 3px 1px rgba(0, 0, 0, 0.15);\n",
              "        filter: drop-shadow(0px 1px 2px rgba(0, 0, 0, 0.3));\n",
              "        fill: #FFFFFF;\n",
              "      }\n",
              "    </style>\n",
              "    <button class=\"colab-df-generate\" onclick=\"generateWithVariable('fake_news_data')\"\n",
              "            title=\"Generate code using this dataframe.\"\n",
              "            style=\"display:none;\">\n",
              "\n",
              "  <svg xmlns=\"http://www.w3.org/2000/svg\" height=\"24px\"viewBox=\"0 0 24 24\"\n",
              "       width=\"24px\">\n",
              "    <path d=\"M7,19H8.4L18.45,9,17,7.55,7,17.6ZM5,21V16.75L18.45,3.32a2,2,0,0,1,2.83,0l1.4,1.43a1.91,1.91,0,0,1,.58,1.4,1.91,1.91,0,0,1-.58,1.4L9.25,21ZM18.45,9,17,7.55Zm-12,3A5.31,5.31,0,0,0,4.9,8.1,5.31,5.31,0,0,0,1,6.5,5.31,5.31,0,0,0,4.9,4.9,5.31,5.31,0,0,0,6.5,1,5.31,5.31,0,0,0,8.1,4.9,5.31,5.31,0,0,0,12,6.5,5.46,5.46,0,0,0,6.5,12Z\"/>\n",
              "  </svg>\n",
              "    </button>\n",
              "    <script>\n",
              "      (() => {\n",
              "      const buttonEl =\n",
              "        document.querySelector('#id_d4d2dc10-e2a8-4ec5-b302-35bd2ac05375 button.colab-df-generate');\n",
              "      buttonEl.style.display =\n",
              "        google.colab.kernel.accessAllowed ? 'block' : 'none';\n",
              "\n",
              "      buttonEl.onclick = () => {\n",
              "        google.colab.notebook.generateWithVariable('fake_news_data');\n",
              "      }\n",
              "      })();\n",
              "    </script>\n",
              "  </div>\n",
              "\n",
              "    </div>\n",
              "  </div>\n"
            ],
            "application/vnd.google.colaboratory.intrinsic+json": {
              "type": "dataframe",
              "variable_name": "fake_news_data",
              "summary": "{\n  \"name\": \"fake_news_data\",\n  \"rows\": 23481,\n  \"fields\": [\n    {\n      \"column\": \"title\",\n      \"properties\": {\n        \"dtype\": \"string\",\n        \"num_unique_values\": 17903,\n        \"samples\": [\n          \" Fox News Mocked Into Oblivion After This F*cking STUPID Attempt To Make Steve Bannon Look Sane (TWEETS)\",\n          \"BREAKING: FL GOV RICK SCOTT Calls for FBI Director to Resign\",\n          \" WATCH: Mike Pence\\u2019s Photo Op With Puerto Rico Survivors Just Went TERRIBLY Wrong (VIDEO)\"\n        ],\n        \"semantic_type\": \"\",\n        \"description\": \"\"\n      }\n    },\n    {\n      \"column\": \"text\",\n      \"properties\": {\n        \"dtype\": \"string\",\n        \"num_unique_values\": 17455,\n        \"samples\": [\n          \"The moral decay continues The Kapiolani Medical Center for Women and Children at the University of Hawaii is currently recruiting pregnant girls and women to participate in second-trimester abortions to measure their bleeding during the operation, with and without antihemorrhagic drugs. According to the Clinical Trials website, run by the National Institutes of Health, participants must be at least 14 years old and 18-24 weeks pregnant.The controversial study, led by Bliss Kaneshiro, MD and Kate Whitehouse, DO, will monitor bleeding during D&E abortions to determine the effects of the drug oxytocin, commonly used to minimize blood loss and decrease the risk of hemorrhage.The clinical trial, called  Effects of Oxytocin on Bleeding Outcomes during Dilation and Evacuation  began in October 2014 and is a collaboration between UH, Society of Family Planning and the University of Washington.The Society of Family Planning funds a number of similar research projects, such as experimenting with the dosage of Misoprostol, a uterine contracting agent, prior to surgical abortions at 13-18 weeks and exploring umbilical cord injections to produce fetal death prior to late-term abortions.In the UH study, researchers will carry out a  randomized, double-blinded, placebo-controlled trials,  to determine the effect of oxytocin s use on uterine bleeding, meaning that they will either provide or deny intravenous oxytocin to the women.Reports suggest that some doctors are concerned that withholding oxytocin during surgery may put patients, especially teen girls, at risk. This study is reminiscent of Nazi concentration camp experiments. I pity the poor women who are being treated like lab rats, especially those who are denied the drug to reduce hemorrhaging,  said Troy Newman, President of Operation Rescue.Dilation and evacuation abortions are surgical procedures that involve dismembering the pre-born baby with forceps, scraping the inside of the uterus with a curette to remove any residuals and finally suctioning out the womb to make sure the contents are completely removed.After the abortion, the corpse of the fetus is reassembled and examined to ensure everything was successfully removed and that the abortion was complete.The study is hoping to attract up to 166 test subjects and is expected to conclude in July 2015.Via: Breitbart News\",\n          \"CNN was quick to scoop up Corey Lewandowski after Donald Trump kicked him out of his role as campaign manager, but his first week on the job is going pretty much exactly how you would expect it to go   terribly.Not only has Lewandowski proven himself to be pretty much like a paid spokesman for Trump, but his defense of the disgraced GOP candidate isn t being received well. Earlier this week, Lewandowski revealed that he was under contract and couldn t criticize The Donald, even after being fired from the campaign. Today, Lewandowski got called out by Hillary Clinton surrogate Christine Quinn for hyping Trump up to be an expert on the Brexit decision   a suggestion that was clearly false.On Monday s edition of CNN s New Day, Lewandowski made another pathetic defense of Trump by trying to reframe the candidate s disgusting reaction to Brexit, where he mostly spoke about how much the decision would be good for his Scotland golf resort. Lewandowski s defense was: Obviously the U.S. dollar has become much stronger now against the British pound. If you re going to spend money in Europe, now would actually be a good time to go with the fall of the pound.What you have is a world view, so what you have is someone who is saying,  Let s look at this from the U.S. perspective. If you want to go and travel overseas   just from a monetary perspective   now is the right time to do that because what you re getting is more for your dollar. Quinn wasn t having it. She ripped into Lewandowski, firing back, Donald Trump is not running to be travel agent of the world, he s running to be president of the United States.  She continued: What he said wasn t a commentary on international markets, it was,  When the pound goes down, more people will come to my golf course. Donald Trump s main concern isn t the international markets, it isn t the impact that Brexit will have on hard working Americans  401Ks, it s himself. How can he make more money, how can he put more money in his bank account? Lewandowski compared the Brexit decision to Trump s rise in the GOP, and Quinn once again called him out and put him back in his place. She said: Trump touted that he saw this coming. That s ridiculous because when he was first asked about Brexit by the press, he didn t appear to know what it was. Lewandowski tried to counter by insisting that People are too smart, they are tired of being told what to do.  He then tried to commend Trump for being a selfish moron: You know what Donald Trump said about Brexit? What he said was, you don t have to listen to me because it s not my decision. He didn t weigh in like Hillary Clinton did, like Barack Obama did, saying that you can t do this. Quinn fought back, Because he didn t know what it was. Lewandowski was fighting a losing battle. Trump s reaction to Brexit was just as terrifying as it was humorous   it truly proved that Trump knows nothing about foreign affairs, and hasn t spent any time educating himself since the beginning of his presidential candidacy. If only some of the hours he spent getting into fights on Twitter were being used for learning about how the world works. But instead, he once again exposed himself as an unfit choice for President. And when people like Lewandowski try to make sense of his idiocy, they only make themselves look equally foolish.You can watch the embarrassing video below:Featured image via screen capture\",\n          \"A Michigan woman decided to defend against tyranny? when she and another shopper couldn t agree over who got to buy the last notebook on the shelf at the Novi Towne Center store.According to ABC 13, the brawl   yes, brawl    involved two Farmington Hills residents, ages 46 and 32, and a mother and daughter from South Lyon, ages 51 and 20. In other words, these were all grown adults who should have known better but hey   there was only one notebook on the shelf, and we ve all seen what happens in those post-apocalyptic movies when a store is down to the last gallon of milk, right?Two of the women, one of whom was the unnamed 20-year-old, reached for the notebook at the same time. The 46 and 32-year-olds apparently decided that she wasn t getting their goddamn notebook and began pulling her hair.Then, because this had almost hit peak  trailer park,  the 20-year-old s mother decided to go for bonus points by pulling out her gun. Fortunately, someone pushed her aside before she could do any harm.This is one of the NRA s  responsible gun owners  (conservatives can t dismiss this one, as it is confirmed that she is a concealed carry permit holder)   ready to leap into action at the most minor sign of danger and make things worse by turning the situation potentially deadly.Watch it happen below:Featured image via screengrab\"\n        ],\n        \"semantic_type\": \"\",\n        \"description\": \"\"\n      }\n    },\n    {\n      \"column\": \"subject\",\n      \"properties\": {\n        \"dtype\": \"category\",\n        \"num_unique_values\": 6,\n        \"samples\": [\n          \"News\",\n          \"politics\",\n          \"Middle-east\"\n        ],\n        \"semantic_type\": \"\",\n        \"description\": \"\"\n      }\n    },\n    {\n      \"column\": \"date\",\n      \"properties\": {\n        \"dtype\": \"category\",\n        \"num_unique_values\": 1681,\n        \"samples\": [\n          \"Jun 5, 2015\",\n          \"August 28, 2016\",\n          \"June 3, 2017\"\n        ],\n        \"semantic_type\": \"\",\n        \"description\": \"\"\n      }\n    }\n  ]\n}"
            }
          },
          "metadata": {},
          "execution_count": 4
        }
      ]
    },
    {
      "cell_type": "code",
      "source": [
        "true_news_data"
      ],
      "metadata": {
        "colab": {
          "base_uri": "https://localhost:8080/",
          "height": 423
        },
        "id": "LtZYR5Z4tFkm",
        "outputId": "289eac75-3ea5-4e51-8a0f-a62555312930"
      },
      "execution_count": null,
      "outputs": [
        {
          "output_type": "execute_result",
          "data": {
            "text/plain": [
              "                                                   title  \\\n",
              "0      As U.S. budget fight looms, Republicans flip t...   \n",
              "1      U.S. military to accept transgender recruits o...   \n",
              "2      Senior U.S. Republican senator: 'Let Mr. Muell...   \n",
              "3      FBI Russia probe helped by Australian diplomat...   \n",
              "4      Trump wants Postal Service to charge 'much mor...   \n",
              "...                                                  ...   \n",
              "21412  'Fully committed' NATO backs new U.S. approach...   \n",
              "21413  LexisNexis withdrew two products from Chinese ...   \n",
              "21414  Minsk cultural hub becomes haven from authorities   \n",
              "21415  Vatican upbeat on possibility of Pope Francis ...   \n",
              "21416  Indonesia to buy $1.14 billion worth of Russia...   \n",
              "\n",
              "                                                    text       subject  \\\n",
              "0      WASHINGTON (Reuters) - The head of a conservat...  politicsNews   \n",
              "1      WASHINGTON (Reuters) - Transgender people will...  politicsNews   \n",
              "2      WASHINGTON (Reuters) - The special counsel inv...  politicsNews   \n",
              "3      WASHINGTON (Reuters) - Trump campaign adviser ...  politicsNews   \n",
              "4      SEATTLE/WASHINGTON (Reuters) - President Donal...  politicsNews   \n",
              "...                                                  ...           ...   \n",
              "21412  BRUSSELS (Reuters) - NATO allies on Tuesday we...     worldnews   \n",
              "21413  LONDON (Reuters) - LexisNexis, a provider of l...     worldnews   \n",
              "21414  MINSK (Reuters) - In the shadow of disused Sov...     worldnews   \n",
              "21415  MOSCOW (Reuters) - Vatican Secretary of State ...     worldnews   \n",
              "21416  JAKARTA (Reuters) - Indonesia will buy 11 Sukh...     worldnews   \n",
              "\n",
              "                     date  \n",
              "0      December 31, 2017   \n",
              "1      December 29, 2017   \n",
              "2      December 31, 2017   \n",
              "3      December 30, 2017   \n",
              "4      December 29, 2017   \n",
              "...                   ...  \n",
              "21412    August 22, 2017   \n",
              "21413    August 22, 2017   \n",
              "21414    August 22, 2017   \n",
              "21415    August 22, 2017   \n",
              "21416    August 22, 2017   \n",
              "\n",
              "[21417 rows x 4 columns]"
            ],
            "text/html": [
              "\n",
              "  <div id=\"df-a7623b02-2f34-4598-a4fa-601fc4a60ade\" class=\"colab-df-container\">\n",
              "    <div>\n",
              "<style scoped>\n",
              "    .dataframe tbody tr th:only-of-type {\n",
              "        vertical-align: middle;\n",
              "    }\n",
              "\n",
              "    .dataframe tbody tr th {\n",
              "        vertical-align: top;\n",
              "    }\n",
              "\n",
              "    .dataframe thead th {\n",
              "        text-align: right;\n",
              "    }\n",
              "</style>\n",
              "<table border=\"1\" class=\"dataframe\">\n",
              "  <thead>\n",
              "    <tr style=\"text-align: right;\">\n",
              "      <th></th>\n",
              "      <th>title</th>\n",
              "      <th>text</th>\n",
              "      <th>subject</th>\n",
              "      <th>date</th>\n",
              "    </tr>\n",
              "  </thead>\n",
              "  <tbody>\n",
              "    <tr>\n",
              "      <th>0</th>\n",
              "      <td>As U.S. budget fight looms, Republicans flip t...</td>\n",
              "      <td>WASHINGTON (Reuters) - The head of a conservat...</td>\n",
              "      <td>politicsNews</td>\n",
              "      <td>December 31, 2017</td>\n",
              "    </tr>\n",
              "    <tr>\n",
              "      <th>1</th>\n",
              "      <td>U.S. military to accept transgender recruits o...</td>\n",
              "      <td>WASHINGTON (Reuters) - Transgender people will...</td>\n",
              "      <td>politicsNews</td>\n",
              "      <td>December 29, 2017</td>\n",
              "    </tr>\n",
              "    <tr>\n",
              "      <th>2</th>\n",
              "      <td>Senior U.S. Republican senator: 'Let Mr. Muell...</td>\n",
              "      <td>WASHINGTON (Reuters) - The special counsel inv...</td>\n",
              "      <td>politicsNews</td>\n",
              "      <td>December 31, 2017</td>\n",
              "    </tr>\n",
              "    <tr>\n",
              "      <th>3</th>\n",
              "      <td>FBI Russia probe helped by Australian diplomat...</td>\n",
              "      <td>WASHINGTON (Reuters) - Trump campaign adviser ...</td>\n",
              "      <td>politicsNews</td>\n",
              "      <td>December 30, 2017</td>\n",
              "    </tr>\n",
              "    <tr>\n",
              "      <th>4</th>\n",
              "      <td>Trump wants Postal Service to charge 'much mor...</td>\n",
              "      <td>SEATTLE/WASHINGTON (Reuters) - President Donal...</td>\n",
              "      <td>politicsNews</td>\n",
              "      <td>December 29, 2017</td>\n",
              "    </tr>\n",
              "    <tr>\n",
              "      <th>...</th>\n",
              "      <td>...</td>\n",
              "      <td>...</td>\n",
              "      <td>...</td>\n",
              "      <td>...</td>\n",
              "    </tr>\n",
              "    <tr>\n",
              "      <th>21412</th>\n",
              "      <td>'Fully committed' NATO backs new U.S. approach...</td>\n",
              "      <td>BRUSSELS (Reuters) - NATO allies on Tuesday we...</td>\n",
              "      <td>worldnews</td>\n",
              "      <td>August 22, 2017</td>\n",
              "    </tr>\n",
              "    <tr>\n",
              "      <th>21413</th>\n",
              "      <td>LexisNexis withdrew two products from Chinese ...</td>\n",
              "      <td>LONDON (Reuters) - LexisNexis, a provider of l...</td>\n",
              "      <td>worldnews</td>\n",
              "      <td>August 22, 2017</td>\n",
              "    </tr>\n",
              "    <tr>\n",
              "      <th>21414</th>\n",
              "      <td>Minsk cultural hub becomes haven from authorities</td>\n",
              "      <td>MINSK (Reuters) - In the shadow of disused Sov...</td>\n",
              "      <td>worldnews</td>\n",
              "      <td>August 22, 2017</td>\n",
              "    </tr>\n",
              "    <tr>\n",
              "      <th>21415</th>\n",
              "      <td>Vatican upbeat on possibility of Pope Francis ...</td>\n",
              "      <td>MOSCOW (Reuters) - Vatican Secretary of State ...</td>\n",
              "      <td>worldnews</td>\n",
              "      <td>August 22, 2017</td>\n",
              "    </tr>\n",
              "    <tr>\n",
              "      <th>21416</th>\n",
              "      <td>Indonesia to buy $1.14 billion worth of Russia...</td>\n",
              "      <td>JAKARTA (Reuters) - Indonesia will buy 11 Sukh...</td>\n",
              "      <td>worldnews</td>\n",
              "      <td>August 22, 2017</td>\n",
              "    </tr>\n",
              "  </tbody>\n",
              "</table>\n",
              "<p>21417 rows × 4 columns</p>\n",
              "</div>\n",
              "    <div class=\"colab-df-buttons\">\n",
              "\n",
              "  <div class=\"colab-df-container\">\n",
              "    <button class=\"colab-df-convert\" onclick=\"convertToInteractive('df-a7623b02-2f34-4598-a4fa-601fc4a60ade')\"\n",
              "            title=\"Convert this dataframe to an interactive table.\"\n",
              "            style=\"display:none;\">\n",
              "\n",
              "  <svg xmlns=\"http://www.w3.org/2000/svg\" height=\"24px\" viewBox=\"0 -960 960 960\">\n",
              "    <path d=\"M120-120v-720h720v720H120Zm60-500h600v-160H180v160Zm220 220h160v-160H400v160Zm0 220h160v-160H400v160ZM180-400h160v-160H180v160Zm440 0h160v-160H620v160ZM180-180h160v-160H180v160Zm440 0h160v-160H620v160Z\"/>\n",
              "  </svg>\n",
              "    </button>\n",
              "\n",
              "  <style>\n",
              "    .colab-df-container {\n",
              "      display:flex;\n",
              "      gap: 12px;\n",
              "    }\n",
              "\n",
              "    .colab-df-convert {\n",
              "      background-color: #E8F0FE;\n",
              "      border: none;\n",
              "      border-radius: 50%;\n",
              "      cursor: pointer;\n",
              "      display: none;\n",
              "      fill: #1967D2;\n",
              "      height: 32px;\n",
              "      padding: 0 0 0 0;\n",
              "      width: 32px;\n",
              "    }\n",
              "\n",
              "    .colab-df-convert:hover {\n",
              "      background-color: #E2EBFA;\n",
              "      box-shadow: 0px 1px 2px rgba(60, 64, 67, 0.3), 0px 1px 3px 1px rgba(60, 64, 67, 0.15);\n",
              "      fill: #174EA6;\n",
              "    }\n",
              "\n",
              "    .colab-df-buttons div {\n",
              "      margin-bottom: 4px;\n",
              "    }\n",
              "\n",
              "    [theme=dark] .colab-df-convert {\n",
              "      background-color: #3B4455;\n",
              "      fill: #D2E3FC;\n",
              "    }\n",
              "\n",
              "    [theme=dark] .colab-df-convert:hover {\n",
              "      background-color: #434B5C;\n",
              "      box-shadow: 0px 1px 3px 1px rgba(0, 0, 0, 0.15);\n",
              "      filter: drop-shadow(0px 1px 2px rgba(0, 0, 0, 0.3));\n",
              "      fill: #FFFFFF;\n",
              "    }\n",
              "  </style>\n",
              "\n",
              "    <script>\n",
              "      const buttonEl =\n",
              "        document.querySelector('#df-a7623b02-2f34-4598-a4fa-601fc4a60ade button.colab-df-convert');\n",
              "      buttonEl.style.display =\n",
              "        google.colab.kernel.accessAllowed ? 'block' : 'none';\n",
              "\n",
              "      async function convertToInteractive(key) {\n",
              "        const element = document.querySelector('#df-a7623b02-2f34-4598-a4fa-601fc4a60ade');\n",
              "        const dataTable =\n",
              "          await google.colab.kernel.invokeFunction('convertToInteractive',\n",
              "                                                    [key], {});\n",
              "        if (!dataTable) return;\n",
              "\n",
              "        const docLinkHtml = 'Like what you see? Visit the ' +\n",
              "          '<a target=\"_blank\" href=https://colab.research.google.com/notebooks/data_table.ipynb>data table notebook</a>'\n",
              "          + ' to learn more about interactive tables.';\n",
              "        element.innerHTML = '';\n",
              "        dataTable['output_type'] = 'display_data';\n",
              "        await google.colab.output.renderOutput(dataTable, element);\n",
              "        const docLink = document.createElement('div');\n",
              "        docLink.innerHTML = docLinkHtml;\n",
              "        element.appendChild(docLink);\n",
              "      }\n",
              "    </script>\n",
              "  </div>\n",
              "\n",
              "\n",
              "    <div id=\"df-543d39c5-6079-4fae-9dd1-af4ff69698c5\">\n",
              "      <button class=\"colab-df-quickchart\" onclick=\"quickchart('df-543d39c5-6079-4fae-9dd1-af4ff69698c5')\"\n",
              "                title=\"Suggest charts\"\n",
              "                style=\"display:none;\">\n",
              "\n",
              "<svg xmlns=\"http://www.w3.org/2000/svg\" height=\"24px\"viewBox=\"0 0 24 24\"\n",
              "     width=\"24px\">\n",
              "    <g>\n",
              "        <path d=\"M19 3H5c-1.1 0-2 .9-2 2v14c0 1.1.9 2 2 2h14c1.1 0 2-.9 2-2V5c0-1.1-.9-2-2-2zM9 17H7v-7h2v7zm4 0h-2V7h2v10zm4 0h-2v-4h2v4z\"/>\n",
              "    </g>\n",
              "</svg>\n",
              "      </button>\n",
              "\n",
              "<style>\n",
              "  .colab-df-quickchart {\n",
              "      --bg-color: #E8F0FE;\n",
              "      --fill-color: #1967D2;\n",
              "      --hover-bg-color: #E2EBFA;\n",
              "      --hover-fill-color: #174EA6;\n",
              "      --disabled-fill-color: #AAA;\n",
              "      --disabled-bg-color: #DDD;\n",
              "  }\n",
              "\n",
              "  [theme=dark] .colab-df-quickchart {\n",
              "      --bg-color: #3B4455;\n",
              "      --fill-color: #D2E3FC;\n",
              "      --hover-bg-color: #434B5C;\n",
              "      --hover-fill-color: #FFFFFF;\n",
              "      --disabled-bg-color: #3B4455;\n",
              "      --disabled-fill-color: #666;\n",
              "  }\n",
              "\n",
              "  .colab-df-quickchart {\n",
              "    background-color: var(--bg-color);\n",
              "    border: none;\n",
              "    border-radius: 50%;\n",
              "    cursor: pointer;\n",
              "    display: none;\n",
              "    fill: var(--fill-color);\n",
              "    height: 32px;\n",
              "    padding: 0;\n",
              "    width: 32px;\n",
              "  }\n",
              "\n",
              "  .colab-df-quickchart:hover {\n",
              "    background-color: var(--hover-bg-color);\n",
              "    box-shadow: 0 1px 2px rgba(60, 64, 67, 0.3), 0 1px 3px 1px rgba(60, 64, 67, 0.15);\n",
              "    fill: var(--button-hover-fill-color);\n",
              "  }\n",
              "\n",
              "  .colab-df-quickchart-complete:disabled,\n",
              "  .colab-df-quickchart-complete:disabled:hover {\n",
              "    background-color: var(--disabled-bg-color);\n",
              "    fill: var(--disabled-fill-color);\n",
              "    box-shadow: none;\n",
              "  }\n",
              "\n",
              "  .colab-df-spinner {\n",
              "    border: 2px solid var(--fill-color);\n",
              "    border-color: transparent;\n",
              "    border-bottom-color: var(--fill-color);\n",
              "    animation:\n",
              "      spin 1s steps(1) infinite;\n",
              "  }\n",
              "\n",
              "  @keyframes spin {\n",
              "    0% {\n",
              "      border-color: transparent;\n",
              "      border-bottom-color: var(--fill-color);\n",
              "      border-left-color: var(--fill-color);\n",
              "    }\n",
              "    20% {\n",
              "      border-color: transparent;\n",
              "      border-left-color: var(--fill-color);\n",
              "      border-top-color: var(--fill-color);\n",
              "    }\n",
              "    30% {\n",
              "      border-color: transparent;\n",
              "      border-left-color: var(--fill-color);\n",
              "      border-top-color: var(--fill-color);\n",
              "      border-right-color: var(--fill-color);\n",
              "    }\n",
              "    40% {\n",
              "      border-color: transparent;\n",
              "      border-right-color: var(--fill-color);\n",
              "      border-top-color: var(--fill-color);\n",
              "    }\n",
              "    60% {\n",
              "      border-color: transparent;\n",
              "      border-right-color: var(--fill-color);\n",
              "    }\n",
              "    80% {\n",
              "      border-color: transparent;\n",
              "      border-right-color: var(--fill-color);\n",
              "      border-bottom-color: var(--fill-color);\n",
              "    }\n",
              "    90% {\n",
              "      border-color: transparent;\n",
              "      border-bottom-color: var(--fill-color);\n",
              "    }\n",
              "  }\n",
              "</style>\n",
              "\n",
              "      <script>\n",
              "        async function quickchart(key) {\n",
              "          const quickchartButtonEl =\n",
              "            document.querySelector('#' + key + ' button');\n",
              "          quickchartButtonEl.disabled = true;  // To prevent multiple clicks.\n",
              "          quickchartButtonEl.classList.add('colab-df-spinner');\n",
              "          try {\n",
              "            const charts = await google.colab.kernel.invokeFunction(\n",
              "                'suggestCharts', [key], {});\n",
              "          } catch (error) {\n",
              "            console.error('Error during call to suggestCharts:', error);\n",
              "          }\n",
              "          quickchartButtonEl.classList.remove('colab-df-spinner');\n",
              "          quickchartButtonEl.classList.add('colab-df-quickchart-complete');\n",
              "        }\n",
              "        (() => {\n",
              "          let quickchartButtonEl =\n",
              "            document.querySelector('#df-543d39c5-6079-4fae-9dd1-af4ff69698c5 button');\n",
              "          quickchartButtonEl.style.display =\n",
              "            google.colab.kernel.accessAllowed ? 'block' : 'none';\n",
              "        })();\n",
              "      </script>\n",
              "    </div>\n",
              "\n",
              "  <div id=\"id_c9148e1c-1ba7-40b3-9a80-2532ccd6b93e\">\n",
              "    <style>\n",
              "      .colab-df-generate {\n",
              "        background-color: #E8F0FE;\n",
              "        border: none;\n",
              "        border-radius: 50%;\n",
              "        cursor: pointer;\n",
              "        display: none;\n",
              "        fill: #1967D2;\n",
              "        height: 32px;\n",
              "        padding: 0 0 0 0;\n",
              "        width: 32px;\n",
              "      }\n",
              "\n",
              "      .colab-df-generate:hover {\n",
              "        background-color: #E2EBFA;\n",
              "        box-shadow: 0px 1px 2px rgba(60, 64, 67, 0.3), 0px 1px 3px 1px rgba(60, 64, 67, 0.15);\n",
              "        fill: #174EA6;\n",
              "      }\n",
              "\n",
              "      [theme=dark] .colab-df-generate {\n",
              "        background-color: #3B4455;\n",
              "        fill: #D2E3FC;\n",
              "      }\n",
              "\n",
              "      [theme=dark] .colab-df-generate:hover {\n",
              "        background-color: #434B5C;\n",
              "        box-shadow: 0px 1px 3px 1px rgba(0, 0, 0, 0.15);\n",
              "        filter: drop-shadow(0px 1px 2px rgba(0, 0, 0, 0.3));\n",
              "        fill: #FFFFFF;\n",
              "      }\n",
              "    </style>\n",
              "    <button class=\"colab-df-generate\" onclick=\"generateWithVariable('true_news_data')\"\n",
              "            title=\"Generate code using this dataframe.\"\n",
              "            style=\"display:none;\">\n",
              "\n",
              "  <svg xmlns=\"http://www.w3.org/2000/svg\" height=\"24px\"viewBox=\"0 0 24 24\"\n",
              "       width=\"24px\">\n",
              "    <path d=\"M7,19H8.4L18.45,9,17,7.55,7,17.6ZM5,21V16.75L18.45,3.32a2,2,0,0,1,2.83,0l1.4,1.43a1.91,1.91,0,0,1,.58,1.4,1.91,1.91,0,0,1-.58,1.4L9.25,21ZM18.45,9,17,7.55Zm-12,3A5.31,5.31,0,0,0,4.9,8.1,5.31,5.31,0,0,0,1,6.5,5.31,5.31,0,0,0,4.9,4.9,5.31,5.31,0,0,0,6.5,1,5.31,5.31,0,0,0,8.1,4.9,5.31,5.31,0,0,0,12,6.5,5.46,5.46,0,0,0,6.5,12Z\"/>\n",
              "  </svg>\n",
              "    </button>\n",
              "    <script>\n",
              "      (() => {\n",
              "      const buttonEl =\n",
              "        document.querySelector('#id_c9148e1c-1ba7-40b3-9a80-2532ccd6b93e button.colab-df-generate');\n",
              "      buttonEl.style.display =\n",
              "        google.colab.kernel.accessAllowed ? 'block' : 'none';\n",
              "\n",
              "      buttonEl.onclick = () => {\n",
              "        google.colab.notebook.generateWithVariable('true_news_data');\n",
              "      }\n",
              "      })();\n",
              "    </script>\n",
              "  </div>\n",
              "\n",
              "    </div>\n",
              "  </div>\n"
            ],
            "application/vnd.google.colaboratory.intrinsic+json": {
              "type": "dataframe",
              "variable_name": "true_news_data",
              "summary": "{\n  \"name\": \"true_news_data\",\n  \"rows\": 21417,\n  \"fields\": [\n    {\n      \"column\": \"title\",\n      \"properties\": {\n        \"dtype\": \"string\",\n        \"num_unique_values\": 20826,\n        \"samples\": [\n          \"German, Turkish foreign ministers meet after detainee released\",\n          \"Kremlin calls North Korea's latest missile launch another 'provocation'\",\n          \"Transgender soldiers, veterans shaken by Trump's ban on their service\"\n        ],\n        \"semantic_type\": \"\",\n        \"description\": \"\"\n      }\n    },\n    {\n      \"column\": \"text\",\n      \"properties\": {\n        \"dtype\": \"string\",\n        \"num_unique_values\": 21192,\n        \"samples\": [\n          \"WASHINGTON (Reuters) - A majority of the U.S. Senate on Tuesday backed a new round of disaster aid to help Puerto Rico and several states recover from damage from hurricanes and wildfires. The legislation would provide $36.5 billion in emergency relief as Puerto Rico in particular struggles to regain electricity and other basic services following destructive hurricanes. The House of Representatives approved the bill earlier this month. The Trump administration already has indicated it will seek another round of emergency relief from Congress. \",\n          \"BUDAPEST (Reuters) - About a thousand Hungarians protested on Friday against a crackdown on the main opposition party Jobbik which has been  threatened by a record political campaign fine that the party leader describes as a  death sentence  for democracy. Despite the gloomy rhetoric and Jobbik saying it was fighting for survival, support for the demonstration was well down on other similar rallies over the past year. Hungarians will vote for a new parliament in April and Prime Minister Viktor Orban s conservative, anti-migrant Fidesz party is far ahead in the polls, with Jobbik its nearest rival. Jobbik, once on the far right, has turned toward the center in a bid to attract more support and is now campaigning nationwide against Orban, depicting him as the leader of a criminal gang. Orban, rejecting the charges, says his financial standing is  an open book . Last week the state audit office (ASZ) ruled Jobbik had bought political posters far below market prices, breaching rules on political funding, then it slapped a 663 million forint ($2.5 million) penalty on the party. The protesters, waving Jobbik flags and posters deriding the ruling elite, gathered outside the headquarters of Orban s Fidesz party.  What we see unfolding is not an audit office investigation. It is not an official penalty. This is a death sentence with Jobbik s name on it. But in reality, it is a death sentence for Hungarian democracy,  Jobbiik leader Gabor Vona told the crowd. A government spokesman could not comment immediately on his remarks. ASZ chairman Laszlo Domokos is a former Fidesz lawmaker, whom Jobbik and other critics accuse of making decisions in favor of Orban. The audit office denies that. On Friday, ASZ again called on Jobbik to submit information that would challenge its findings, saying it acted fully within its rights throughout the probe. The ruling Fidesz party and the government have denied any involvement in the ASZ probe.  This case has nothing to do with the election campaign,  Orban aide Janos Lazar said on Thursday. For over a year Fidesz has targeted Jobbik, whose move to the center could upend the longstanding status quo of a dominant Fidesz with weaker opponents to its left and its right, said analyst Zoltan Novak at the Centre for Fair Political Analysis. Gyorgy Illes, a 67-year-old pensioner attending the rally, said he used to be a Socialist supporter but got disillusioned as the party struggled to overcome its internal divisions.  This ASZ probe is a clear sign that Orban is way past any remedy. It is a ruthless attack on everything we hold dear. Democracy, the rule of law, equality, you name it,  he said. \",\n          \"BEIJING/TAIPEI (Reuters) - China accused the United States on Thursday of interfering in its internal affairs and said it had lodged a complaint after U.S. President Donald Trump signed into law an act laying the groundwork for possible U.S. navy visits to self-ruled Taiwan. Tensions have risen in recent days after a senior Chinese diplomat threatened China would invade Taiwan if any U.S. warships made port visits to the island which China claims as its own territory. On Monday, Chinese jets carried out  island encirclement patrols  around Taiwan, with state media showing pictures of bombers with cruise missiles slung under their wings as they carried out the exercise. On Tuesday, Trump signed into law the National Defense Authorization Act for the 2018 fiscal year, which authorizes the possibility of mutual visits by navy vessels between Taiwan and the United States. Such visits would be the first since the United States ended formal diplomatic relations with Taiwan in 1979 and established ties with Beijing. Chinese Foreign Ministry spokesman Lu Kang said while the Taiwan sections of the law were not legally binding, they seriously violate the  One China  policy and  constitute an interference in China s internal affairs .   China is resolutely opposed to this, and we have already lodged stern representations with the U.S. government,  Lu told a daily news briefing. China is firmly opposed to any official exchanges, military contact, or arms sales between Taiwan and the United States, he added.  Proudly democratic Taiwan has become increasingly concerned with the ramped up Chinese military presence, that has included several rounds of Chinese air force drills around the island in recent months.  Taiwan is confident of its defenses and responded quickly to the Chinese air force drills this week, its government said, denouncing the rise in China s military deployments as irresponsible. Taiwan presidential spokesman Alex Huang, speaking to Taiwan media in comments reported late on Wednesday, said the defense ministry had kept a close watch on the patrols and responded immediately and properly. Taiwan  can ensure there are no concerns at all about national security, and people can rest assured , Huang said. Both sides of the narrow Taiwan Strait, which separates Taiwan from its giant neighbor, have a responsibility to protect peace and stability, he added.  Such a raised military posture that may impact upon and harm regional peace and stability and cross-strait ties does not give a feeling of responsibility, and the international community does not look favorably upon this,  Huang was quoted as saying. Relations have soured considerably since Tsai Ing-wen, who leads Taiwan s independence-leaning Democratic Progressive Party, won presidential elections last year. China suspects Tsai wants to declare the island s formal independence, a red line for Beijing. Tsai says she wants to maintain peace with China but will defend Taiwan s security. Taiwan is well equipped with mostly U.S. weapons but has been pressing for more advanced equipment to deal with what it sees as a rising threat from China. The United States is bound by law to provide the island with the means to defend itself. China has never renounced the use of force to bring Taiwan under its control. \"\n        ],\n        \"semantic_type\": \"\",\n        \"description\": \"\"\n      }\n    },\n    {\n      \"column\": \"subject\",\n      \"properties\": {\n        \"dtype\": \"category\",\n        \"num_unique_values\": 2,\n        \"samples\": [\n          \"worldnews\",\n          \"politicsNews\"\n        ],\n        \"semantic_type\": \"\",\n        \"description\": \"\"\n      }\n    },\n    {\n      \"column\": \"date\",\n      \"properties\": {\n        \"dtype\": \"object\",\n        \"num_unique_values\": 716,\n        \"samples\": [\n          \"September 2, 2017 \",\n          \"February 2, 2017 \"\n        ],\n        \"semantic_type\": \"\",\n        \"description\": \"\"\n      }\n    }\n  ]\n}"
            }
          },
          "metadata": {},
          "execution_count": 5
        }
      ]
    },
    {
      "cell_type": "code",
      "source": [
        "fake_news_data[\"class\"] = 1  # Fake News data → 1\n",
        "true_news_data[\"class\"] = 0  # True News data → 0"
      ],
      "metadata": {
        "id": "j8UPR_6kDjyo"
      },
      "execution_count": null,
      "outputs": []
    },
    {
      "cell_type": "code",
      "source": [
        "# merged true and fake news datasets\n",
        "merged_data = [fake_news_data,true_news_data]\n",
        "df = pd.concat(merged_data,axis=0)"
      ],
      "metadata": {
        "id": "WNaogr4ITRBN"
      },
      "execution_count": null,
      "outputs": []
    },
    {
      "cell_type": "markdown",
      "source": [
        "**Q2.** drop rows from the dataset consisting null values."
      ],
      "metadata": {
        "id": "Pmt1Dt4WScjD"
      }
    },
    {
      "cell_type": "code",
      "source": [
        "print(df.isnull().sum())"
      ],
      "metadata": {
        "id": "i2ltWuRMTSsT",
        "colab": {
          "base_uri": "https://localhost:8080/"
        },
        "outputId": "01480438-78ee-4ba5-b689-2136f7c1c0cb"
      },
      "execution_count": null,
      "outputs": [
        {
          "output_type": "stream",
          "name": "stdout",
          "text": [
            "title      0\n",
            "text       0\n",
            "subject    0\n",
            "date       0\n",
            "class      0\n",
            "dtype: int64\n"
          ]
        }
      ]
    },
    {
      "cell_type": "code",
      "source": [
        "##There is no null values"
      ],
      "metadata": {
        "id": "2HR63uTArihB"
      },
      "execution_count": null,
      "outputs": []
    },
    {
      "cell_type": "markdown",
      "source": [
        "**Q3.** shuffle the data."
      ],
      "metadata": {
        "id": "lwAYZdVGTjF6"
      }
    },
    {
      "cell_type": "code",
      "source": [
        "df = df.sample(frac=1).reset_index(drop=True)"
      ],
      "metadata": {
        "id": "tCahSMvTTVYE"
      },
      "execution_count": null,
      "outputs": []
    },
    {
      "cell_type": "code",
      "source": [
        "#reset index of the merged dataframe\n",
        "df = df.reset_index(drop=True)"
      ],
      "metadata": {
        "id": "ES6BpPEOGtZB"
      },
      "execution_count": null,
      "outputs": []
    },
    {
      "cell_type": "code",
      "source": [
        "# view top 10 rows of processed dataset\n",
        "df.head(10)"
      ],
      "metadata": {
        "colab": {
          "base_uri": "https://localhost:8080/",
          "height": 519
        },
        "id": "b6NvjxfbGSRK",
        "outputId": "72c6244c-6e11-4347-b761-ae31bf36ae23"
      },
      "execution_count": null,
      "outputs": [
        {
          "output_type": "execute_result",
          "data": {
            "text/plain": [
              "                                               title  \\\n",
              "0  CAN YOU GUESS THE ONE THING Majority Of Bernie...   \n",
              "1       Boiler Room EP #72 – Trailer Parks in Heaven   \n",
              "2  Lebanon's Hariri leaves Cairo for Lebanon: Egy...   \n",
              "3  ISLAMIC TERRORIST ORGANIZATION Joins Obama And...   \n",
              "4      OBAMA STEALING To Keep His Pet Program Afloat   \n",
              "5   As Trump Takes 6th Golf Trip As President The...   \n",
              "6  Santilli Freed Under Plea Pact as Vegas Shooti...   \n",
              "7  BADASS CAMPUS COPS Cite Students For Wearing E...   \n",
              "8  SURPRISE! HISPANIC REPORTER Tries To Call Inju...   \n",
              "9  OUTRAGEOUS! NANCY PELOSI Claims Obamacare Hono...   \n",
              "\n",
              "                                                text          subject  \\\n",
              "0  The function of socialism is to raise sufferin...        left-news   \n",
              "1  Tune in to the Alternate Current Radio Network...          US_News   \n",
              "2  CAIRO (Reuters) - Saad al-Hariri, who resigned...        worldnews   \n",
              "3  What does Obama, the Democrat Party, the state...         politics   \n",
              "4  Helloooo! Where the heck is Congress? $7 billi...  Government News   \n",
              "5  Trump spent his the sixth weekend golfing and ...             News   \n",
              "6   LONG SHADOW: The wake of the recent mass trag...          US_News   \n",
              "7  Trigger warning If liberal schools and badass ...        left-news   \n",
              "8  This video is just one of many examples showin...        left-news   \n",
              "9                                                     Government News   \n",
              "\n",
              "                 date  class  \n",
              "0         Jun 5, 2016      1  \n",
              "1   September 3, 2016      1  \n",
              "2  November 21, 2017       0  \n",
              "3         Dec 8, 2015      1  \n",
              "4        Feb 25, 2016      1  \n",
              "5      March 18, 2017      1  \n",
              "6    October 14, 2017      1  \n",
              "7        Apr 14, 2016      1  \n",
              "8        Jun 11, 2016      1  \n",
              "9        Mar 25, 2017      1  "
            ],
            "text/html": [
              "\n",
              "  <div id=\"df-a23ea60d-94ce-4c7c-a08b-da646f8b60ee\" class=\"colab-df-container\">\n",
              "    <div>\n",
              "<style scoped>\n",
              "    .dataframe tbody tr th:only-of-type {\n",
              "        vertical-align: middle;\n",
              "    }\n",
              "\n",
              "    .dataframe tbody tr th {\n",
              "        vertical-align: top;\n",
              "    }\n",
              "\n",
              "    .dataframe thead th {\n",
              "        text-align: right;\n",
              "    }\n",
              "</style>\n",
              "<table border=\"1\" class=\"dataframe\">\n",
              "  <thead>\n",
              "    <tr style=\"text-align: right;\">\n",
              "      <th></th>\n",
              "      <th>title</th>\n",
              "      <th>text</th>\n",
              "      <th>subject</th>\n",
              "      <th>date</th>\n",
              "      <th>class</th>\n",
              "    </tr>\n",
              "  </thead>\n",
              "  <tbody>\n",
              "    <tr>\n",
              "      <th>0</th>\n",
              "      <td>CAN YOU GUESS THE ONE THING Majority Of Bernie...</td>\n",
              "      <td>The function of socialism is to raise sufferin...</td>\n",
              "      <td>left-news</td>\n",
              "      <td>Jun 5, 2016</td>\n",
              "      <td>1</td>\n",
              "    </tr>\n",
              "    <tr>\n",
              "      <th>1</th>\n",
              "      <td>Boiler Room EP #72 – Trailer Parks in Heaven</td>\n",
              "      <td>Tune in to the Alternate Current Radio Network...</td>\n",
              "      <td>US_News</td>\n",
              "      <td>September 3, 2016</td>\n",
              "      <td>1</td>\n",
              "    </tr>\n",
              "    <tr>\n",
              "      <th>2</th>\n",
              "      <td>Lebanon's Hariri leaves Cairo for Lebanon: Egy...</td>\n",
              "      <td>CAIRO (Reuters) - Saad al-Hariri, who resigned...</td>\n",
              "      <td>worldnews</td>\n",
              "      <td>November 21, 2017</td>\n",
              "      <td>0</td>\n",
              "    </tr>\n",
              "    <tr>\n",
              "      <th>3</th>\n",
              "      <td>ISLAMIC TERRORIST ORGANIZATION Joins Obama And...</td>\n",
              "      <td>What does Obama, the Democrat Party, the state...</td>\n",
              "      <td>politics</td>\n",
              "      <td>Dec 8, 2015</td>\n",
              "      <td>1</td>\n",
              "    </tr>\n",
              "    <tr>\n",
              "      <th>4</th>\n",
              "      <td>OBAMA STEALING To Keep His Pet Program Afloat</td>\n",
              "      <td>Helloooo! Where the heck is Congress? $7 billi...</td>\n",
              "      <td>Government News</td>\n",
              "      <td>Feb 25, 2016</td>\n",
              "      <td>1</td>\n",
              "    </tr>\n",
              "    <tr>\n",
              "      <th>5</th>\n",
              "      <td>As Trump Takes 6th Golf Trip As President The...</td>\n",
              "      <td>Trump spent his the sixth weekend golfing and ...</td>\n",
              "      <td>News</td>\n",
              "      <td>March 18, 2017</td>\n",
              "      <td>1</td>\n",
              "    </tr>\n",
              "    <tr>\n",
              "      <th>6</th>\n",
              "      <td>Santilli Freed Under Plea Pact as Vegas Shooti...</td>\n",
              "      <td>LONG SHADOW: The wake of the recent mass trag...</td>\n",
              "      <td>US_News</td>\n",
              "      <td>October 14, 2017</td>\n",
              "      <td>1</td>\n",
              "    </tr>\n",
              "    <tr>\n",
              "      <th>7</th>\n",
              "      <td>BADASS CAMPUS COPS Cite Students For Wearing E...</td>\n",
              "      <td>Trigger warning If liberal schools and badass ...</td>\n",
              "      <td>left-news</td>\n",
              "      <td>Apr 14, 2016</td>\n",
              "      <td>1</td>\n",
              "    </tr>\n",
              "    <tr>\n",
              "      <th>8</th>\n",
              "      <td>SURPRISE! HISPANIC REPORTER Tries To Call Inju...</td>\n",
              "      <td>This video is just one of many examples showin...</td>\n",
              "      <td>left-news</td>\n",
              "      <td>Jun 11, 2016</td>\n",
              "      <td>1</td>\n",
              "    </tr>\n",
              "    <tr>\n",
              "      <th>9</th>\n",
              "      <td>OUTRAGEOUS! NANCY PELOSI Claims Obamacare Hono...</td>\n",
              "      <td></td>\n",
              "      <td>Government News</td>\n",
              "      <td>Mar 25, 2017</td>\n",
              "      <td>1</td>\n",
              "    </tr>\n",
              "  </tbody>\n",
              "</table>\n",
              "</div>\n",
              "    <div class=\"colab-df-buttons\">\n",
              "\n",
              "  <div class=\"colab-df-container\">\n",
              "    <button class=\"colab-df-convert\" onclick=\"convertToInteractive('df-a23ea60d-94ce-4c7c-a08b-da646f8b60ee')\"\n",
              "            title=\"Convert this dataframe to an interactive table.\"\n",
              "            style=\"display:none;\">\n",
              "\n",
              "  <svg xmlns=\"http://www.w3.org/2000/svg\" height=\"24px\" viewBox=\"0 -960 960 960\">\n",
              "    <path d=\"M120-120v-720h720v720H120Zm60-500h600v-160H180v160Zm220 220h160v-160H400v160Zm0 220h160v-160H400v160ZM180-400h160v-160H180v160Zm440 0h160v-160H620v160ZM180-180h160v-160H180v160Zm440 0h160v-160H620v160Z\"/>\n",
              "  </svg>\n",
              "    </button>\n",
              "\n",
              "  <style>\n",
              "    .colab-df-container {\n",
              "      display:flex;\n",
              "      gap: 12px;\n",
              "    }\n",
              "\n",
              "    .colab-df-convert {\n",
              "      background-color: #E8F0FE;\n",
              "      border: none;\n",
              "      border-radius: 50%;\n",
              "      cursor: pointer;\n",
              "      display: none;\n",
              "      fill: #1967D2;\n",
              "      height: 32px;\n",
              "      padding: 0 0 0 0;\n",
              "      width: 32px;\n",
              "    }\n",
              "\n",
              "    .colab-df-convert:hover {\n",
              "      background-color: #E2EBFA;\n",
              "      box-shadow: 0px 1px 2px rgba(60, 64, 67, 0.3), 0px 1px 3px 1px rgba(60, 64, 67, 0.15);\n",
              "      fill: #174EA6;\n",
              "    }\n",
              "\n",
              "    .colab-df-buttons div {\n",
              "      margin-bottom: 4px;\n",
              "    }\n",
              "\n",
              "    [theme=dark] .colab-df-convert {\n",
              "      background-color: #3B4455;\n",
              "      fill: #D2E3FC;\n",
              "    }\n",
              "\n",
              "    [theme=dark] .colab-df-convert:hover {\n",
              "      background-color: #434B5C;\n",
              "      box-shadow: 0px 1px 3px 1px rgba(0, 0, 0, 0.15);\n",
              "      filter: drop-shadow(0px 1px 2px rgba(0, 0, 0, 0.3));\n",
              "      fill: #FFFFFF;\n",
              "    }\n",
              "  </style>\n",
              "\n",
              "    <script>\n",
              "      const buttonEl =\n",
              "        document.querySelector('#df-a23ea60d-94ce-4c7c-a08b-da646f8b60ee button.colab-df-convert');\n",
              "      buttonEl.style.display =\n",
              "        google.colab.kernel.accessAllowed ? 'block' : 'none';\n",
              "\n",
              "      async function convertToInteractive(key) {\n",
              "        const element = document.querySelector('#df-a23ea60d-94ce-4c7c-a08b-da646f8b60ee');\n",
              "        const dataTable =\n",
              "          await google.colab.kernel.invokeFunction('convertToInteractive',\n",
              "                                                    [key], {});\n",
              "        if (!dataTable) return;\n",
              "\n",
              "        const docLinkHtml = 'Like what you see? Visit the ' +\n",
              "          '<a target=\"_blank\" href=https://colab.research.google.com/notebooks/data_table.ipynb>data table notebook</a>'\n",
              "          + ' to learn more about interactive tables.';\n",
              "        element.innerHTML = '';\n",
              "        dataTable['output_type'] = 'display_data';\n",
              "        await google.colab.output.renderOutput(dataTable, element);\n",
              "        const docLink = document.createElement('div');\n",
              "        docLink.innerHTML = docLinkHtml;\n",
              "        element.appendChild(docLink);\n",
              "      }\n",
              "    </script>\n",
              "  </div>\n",
              "\n",
              "\n",
              "    <div id=\"df-56f59f73-5733-4975-8d92-8daa9065e427\">\n",
              "      <button class=\"colab-df-quickchart\" onclick=\"quickchart('df-56f59f73-5733-4975-8d92-8daa9065e427')\"\n",
              "                title=\"Suggest charts\"\n",
              "                style=\"display:none;\">\n",
              "\n",
              "<svg xmlns=\"http://www.w3.org/2000/svg\" height=\"24px\"viewBox=\"0 0 24 24\"\n",
              "     width=\"24px\">\n",
              "    <g>\n",
              "        <path d=\"M19 3H5c-1.1 0-2 .9-2 2v14c0 1.1.9 2 2 2h14c1.1 0 2-.9 2-2V5c0-1.1-.9-2-2-2zM9 17H7v-7h2v7zm4 0h-2V7h2v10zm4 0h-2v-4h2v4z\"/>\n",
              "    </g>\n",
              "</svg>\n",
              "      </button>\n",
              "\n",
              "<style>\n",
              "  .colab-df-quickchart {\n",
              "      --bg-color: #E8F0FE;\n",
              "      --fill-color: #1967D2;\n",
              "      --hover-bg-color: #E2EBFA;\n",
              "      --hover-fill-color: #174EA6;\n",
              "      --disabled-fill-color: #AAA;\n",
              "      --disabled-bg-color: #DDD;\n",
              "  }\n",
              "\n",
              "  [theme=dark] .colab-df-quickchart {\n",
              "      --bg-color: #3B4455;\n",
              "      --fill-color: #D2E3FC;\n",
              "      --hover-bg-color: #434B5C;\n",
              "      --hover-fill-color: #FFFFFF;\n",
              "      --disabled-bg-color: #3B4455;\n",
              "      --disabled-fill-color: #666;\n",
              "  }\n",
              "\n",
              "  .colab-df-quickchart {\n",
              "    background-color: var(--bg-color);\n",
              "    border: none;\n",
              "    border-radius: 50%;\n",
              "    cursor: pointer;\n",
              "    display: none;\n",
              "    fill: var(--fill-color);\n",
              "    height: 32px;\n",
              "    padding: 0;\n",
              "    width: 32px;\n",
              "  }\n",
              "\n",
              "  .colab-df-quickchart:hover {\n",
              "    background-color: var(--hover-bg-color);\n",
              "    box-shadow: 0 1px 2px rgba(60, 64, 67, 0.3), 0 1px 3px 1px rgba(60, 64, 67, 0.15);\n",
              "    fill: var(--button-hover-fill-color);\n",
              "  }\n",
              "\n",
              "  .colab-df-quickchart-complete:disabled,\n",
              "  .colab-df-quickchart-complete:disabled:hover {\n",
              "    background-color: var(--disabled-bg-color);\n",
              "    fill: var(--disabled-fill-color);\n",
              "    box-shadow: none;\n",
              "  }\n",
              "\n",
              "  .colab-df-spinner {\n",
              "    border: 2px solid var(--fill-color);\n",
              "    border-color: transparent;\n",
              "    border-bottom-color: var(--fill-color);\n",
              "    animation:\n",
              "      spin 1s steps(1) infinite;\n",
              "  }\n",
              "\n",
              "  @keyframes spin {\n",
              "    0% {\n",
              "      border-color: transparent;\n",
              "      border-bottom-color: var(--fill-color);\n",
              "      border-left-color: var(--fill-color);\n",
              "    }\n",
              "    20% {\n",
              "      border-color: transparent;\n",
              "      border-left-color: var(--fill-color);\n",
              "      border-top-color: var(--fill-color);\n",
              "    }\n",
              "    30% {\n",
              "      border-color: transparent;\n",
              "      border-left-color: var(--fill-color);\n",
              "      border-top-color: var(--fill-color);\n",
              "      border-right-color: var(--fill-color);\n",
              "    }\n",
              "    40% {\n",
              "      border-color: transparent;\n",
              "      border-right-color: var(--fill-color);\n",
              "      border-top-color: var(--fill-color);\n",
              "    }\n",
              "    60% {\n",
              "      border-color: transparent;\n",
              "      border-right-color: var(--fill-color);\n",
              "    }\n",
              "    80% {\n",
              "      border-color: transparent;\n",
              "      border-right-color: var(--fill-color);\n",
              "      border-bottom-color: var(--fill-color);\n",
              "    }\n",
              "    90% {\n",
              "      border-color: transparent;\n",
              "      border-bottom-color: var(--fill-color);\n",
              "    }\n",
              "  }\n",
              "</style>\n",
              "\n",
              "      <script>\n",
              "        async function quickchart(key) {\n",
              "          const quickchartButtonEl =\n",
              "            document.querySelector('#' + key + ' button');\n",
              "          quickchartButtonEl.disabled = true;  // To prevent multiple clicks.\n",
              "          quickchartButtonEl.classList.add('colab-df-spinner');\n",
              "          try {\n",
              "            const charts = await google.colab.kernel.invokeFunction(\n",
              "                'suggestCharts', [key], {});\n",
              "          } catch (error) {\n",
              "            console.error('Error during call to suggestCharts:', error);\n",
              "          }\n",
              "          quickchartButtonEl.classList.remove('colab-df-spinner');\n",
              "          quickchartButtonEl.classList.add('colab-df-quickchart-complete');\n",
              "        }\n",
              "        (() => {\n",
              "          let quickchartButtonEl =\n",
              "            document.querySelector('#df-56f59f73-5733-4975-8d92-8daa9065e427 button');\n",
              "          quickchartButtonEl.style.display =\n",
              "            google.colab.kernel.accessAllowed ? 'block' : 'none';\n",
              "        })();\n",
              "      </script>\n",
              "    </div>\n",
              "\n",
              "    </div>\n",
              "  </div>\n"
            ],
            "application/vnd.google.colaboratory.intrinsic+json": {
              "type": "dataframe",
              "variable_name": "df",
              "summary": "{\n  \"name\": \"df\",\n  \"rows\": 44898,\n  \"fields\": [\n    {\n      \"column\": \"title\",\n      \"properties\": {\n        \"dtype\": \"string\",\n        \"num_unique_values\": 38729,\n        \"samples\": [\n          \"Mexico to cut share of refined sugar sent to U.S., minister says\",\n          \"Democrat Sen. Wyden warns of diminishing potential for tax reform\",\n          \"Russia moves to shelter banks funding arms makers from sanctions\"\n        ],\n        \"semantic_type\": \"\",\n        \"description\": \"\"\n      }\n    },\n    {\n      \"column\": \"text\",\n      \"properties\": {\n        \"dtype\": \"string\",\n        \"num_unique_values\": 38646,\n        \"samples\": [\n          \"SYDNEY (Reuters) - A citizenship crisis that robbed Australian Prime Minister Malcolm Turnbull of his one-seat majority will claim another politician, with the Senate president on Wednesday saying he will resign after confirming he was a dual national. Stephen Parry, the leader of the upper house and a member of Turnbull s Liberal party, said he will submit his resignation on Thursday after he being told that along with his Australian citizenship he also held British citizenship by descent. Parry s father was born in Britain before moving to Australia as a boy in 1951, which automatically gave Parry citizenship by descent. Under the constitution a politician must only hold Australian citizenship to be eligible to be elected to the national parliament.  I wish my successor all the best and trust that she or he will continue the reforms that I have commenced,  Parry said in a statement. Parry s resignation follows last week s High Court ruling that the deputy prime minister, Barnaby Joyce, was ineligible to sit in parliament as he held dual Australia-New Zealand citizenship when elected. The ruling meant the government lost its one-seat majority in the lower house and must now rely on independents for its political survival. Joyce has since relinquished his New Zealand citizenship and will re-contest his seat at a Dec. 2 by-election. Joyce was one of a group of lawmakers, known as the  Citizenship Seven , whose eligibility to sit in parliament was thrown into doubt in recent months when it was found they were dual citizens. The High Court last Friday also ruled four other politicians ineligible to sit in parliament due to dual citizenships. Turnbull does not control the Senate, and Parry s departure will not change the dynamics of the upper house where seats are assigned to party alternatives when an incumbent resigns. Turnbull has flagged potential changes to the constitution, noting that more than half of Australia s population of 24 million was either born overseas or has a parent who was born overseas. A national referendum would be needed to change the constitution. \",\n          \"Donald Trump has constantly involved himself in one silly feud after another, going ballistic on a series of individuals and institutions in a childish tantrum style, often about topics that have absolutely nothing to do with being elected president.Trump has done this so often, Hillary Clinton referenced the behavior in her speech accepting the Democratic nomination in Philadelphia this summer, noting,  Imagine him in the Oval Office facing a real crisis. A man you can bait with a tweet is not a man we can trust with nuclear weapons. The current occupant of the White House, President Obama, recently showed off the stark difference in temperament between himself and someone like Trump in how he responded to poor treatment by Chinese authorities.The Chinese prevented a set of stairs from being used to allow Obama to walk off of Air Force One, forcing the White House to eventually scrap the process even though it is a key element in the imagery of the President arriving for a diplomatic event like the G20. Obama could have chosen to complain and whine and moan about it. Instead Mr. Obama played down the incident, saying it was part of the normal give-and-take over security and media access that the United States has with many foreign countries.He noted that foreign delegations often feel bruised by their treatment when they visit the United States. And he acknowledged that the White House places a lot of demands on countries he visits because of the size of his entourage and his security demands.Can you imagine Donald Trump letting a violation of protocol or   more importantly in his egocentric eyes   allowing an opportunity for a photo-op to pass him by? No doubt a raft of Chinese officials, including the stair operator, would be subject to aggressive Trump tweets. He might even come up with one of his childish nicknames.Instead, Obama let it slide, going on to sign a major agreement with the Chinese president in order to fight global climate change   a real problem, not an optics one.That s a big difference.Featured image via Flickr\",\n          \"ATLANTA/NEW YORK (Reuters) - Martin Luther King\\u2019s daughter said on Monday that \\u201cGod can triumph over Trump,\\u201d but the slain civil rights leader\\u2019s son struck a conciliatory tone after meeting with the president-elect on the U.S. holiday that honors their father. The comments by the children of King, who championed racial justice until he was assassinated in 1968 at the age of 39, punctuated an imbroglio involving Donald Trump and African-American congressman John Lewis that broke out over the weekend. The dispute started when Lewis, 76, a contemporary of King\\u2019s who endured beatings and jail time in the civil rights movement of the 1960s, said in a televised interview that he saw Trump\\u2019s election as illegitimate because of Russian interference in the campaign. That drew a scornful response from Trump. Bernice King, King\\u2019s youngest daughter, told a gathering at Ebenezer Baptist Church in Atlanta not to give up hope and \\u201cDon\\u2019t be afraid of who sits in the White House.\\u201d \\u201cGod can triumph over Trump,\\u201d she said, drawing a standing ovation, one of several times she was interrupted by thunderous applause. The service at the church where King once preached takes place every year on Martin Luther King Jr Day, a federal holiday honoring his life. This year the holiday fell days before Barack Obama ends his second term as the country\\u2019s first African-American president. Trump takes the oath of office as his successor on Friday. Obama and first lady Michelle Obama spent part of their last MLK Day in office helping paint a mural in the \\u201ccommunity room\\u201d of a Washington shelter, to which they donated a play set used by their daughters when they arrived at the White House in 2009.  Trump, who won only 8 percent of the black vote, offered praise for King in a Twitter post on Monday, a few hours before meeting King\\u2019s oldest son, Martin Luther King III, at his Trump Tower offices in New York.  \\u201cCelebrate Martin Luther King Day and all of the many wonderful things that he stood for. Honor him for being the great man that he was!\\u201d Trump tweeted. Trump and King III emerged from an elevator together, shaking hands. Trump said goodbye to King, then returned to the elevator without answering questions. King said they had a constructive meeting to discuss how to improve the U.S. voting system, which King considers broken, but he skirted questions about whether he was offended by Trump\\u2019s comments on Lewis. \\u201cFirst of all I think that in the heat of emotion a lot of things get said on both sides. I think at some point I bridge-build. The goal is to bring America together,\\u201d King told reporters. Lewis did not mention Trump in a speech in Miami about the civil rights struggle to honor King, who would have turned 88 on Sunday, but he urged young black Americans to consider voting a \\u201csacred\\u201d act.  \\u201cWe all must become participants in the democratic process. When you get old enough to register to vote, go and register and vote,\\u201d Lewis said in a half-hour address.  Gunfire during Miami holiday festivities wounded eight people ages 11 to 30 at Martin Luther King Jr Memorial Park, police said. Two people were detained and two weapons seized, and the cause of the shooting is under investigation. The Trump-Lewis exchange began when Lewis told NBC News in segments of an interview released on Friday that he would not attend Trump\\u2019s inauguration in part because \\u201cI don\\u2019t see this president-elect as a legitimate president.\\u201d He referred to the findings of U.S. intelligence agencies that Russia used hacking and other methods to try to help Trump, a Republican, defeat Democrat Hillary Clinton in the Nov. 8 election.     Trump was withering in his response the following day, saying in tweets that Lewis, a revered figure who risked his life for civil rights, was \\u201cAll talk, talk, talk - no action or results.\\u201d While many Democrats and Republicans said they disagreed with Lewis, they also questioned Trump\\u2019s decision to denigrate an African-American political leader of Lewis\\u2019 stature, especially over the Martin Luther King Jr weekend.  Civil rights leaders have also opposed Trump\\u2019s nominee for U.S. attorney general, Senator Jeff Sessions of Alabama, who was denied a federal judgeship in 1986 after allegations that he was racist and harbored sympathies toward the Ku Klux Klan, a violent white supremacist organization. The Senate Judiciary Committee has received letters from 400 civil rights organizations opposing his confirmation to the country\\u2019s top law enforcement post, Democratic Senator Dianne Feinstein has said. Sessions strongly denied that he is a racist during his confirmation hearing in the Senate last week. (This story corrects senator\\u2019s name in final paragraph to \\u2018Feinstein\\u2019.) \"\n        ],\n        \"semantic_type\": \"\",\n        \"description\": \"\"\n      }\n    },\n    {\n      \"column\": \"subject\",\n      \"properties\": {\n        \"dtype\": \"category\",\n        \"num_unique_values\": 8,\n        \"samples\": [\n          \"US_News\",\n          \"News\",\n          \"left-news\"\n        ],\n        \"semantic_type\": \"\",\n        \"description\": \"\"\n      }\n    },\n    {\n      \"column\": \"date\",\n      \"properties\": {\n        \"dtype\": \"category\",\n        \"num_unique_values\": 2397,\n        \"samples\": [\n          \"January 12, 2016\",\n          \"May 11, 2015\",\n          \"Mar 29, 2017\"\n        ],\n        \"semantic_type\": \"\",\n        \"description\": \"\"\n      }\n    },\n    {\n      \"column\": \"class\",\n      \"properties\": {\n        \"dtype\": \"number\",\n        \"std\": 0,\n        \"min\": 0,\n        \"max\": 1,\n        \"num_unique_values\": 2,\n        \"samples\": [\n          0,\n          1\n        ],\n        \"semantic_type\": \"\",\n        \"description\": \"\"\n      }\n    }\n  ]\n}"
            }
          },
          "metadata": {},
          "execution_count": 12
        }
      ]
    },
    {
      "cell_type": "markdown",
      "source": [
        "**Q4.** view the text content of a random data point."
      ],
      "metadata": {
        "id": "lnnRk7xMUJUb"
      }
    },
    {
      "cell_type": "code",
      "source": [
        "import random\n",
        "rand_idx = random.randrange(len(df))\n",
        "print(\"Index:\", rand_idx)\n",
        "# adjust column name 'text' to whatever column contains news body in your dataset\n",
        "print(\"Text:\\n\", df.loc[rand_idx, 'text'])\n",
        "print(\"\\nLabel/class:\", df.loc[rand_idx, 'class'] if 'class' in df.columns else df.loc[rand_idx, 'label'])"
      ],
      "metadata": {
        "id": "QnVr83t9Tqco",
        "colab": {
          "base_uri": "https://localhost:8080/"
        },
        "outputId": "c011bab3-a550-4885-e23a-902ec56eea2e"
      },
      "execution_count": null,
      "outputs": [
        {
          "output_type": "stream",
          "name": "stdout",
          "text": [
            "Index: 3387\n",
            "Text:\n",
            " CAIRO (Reuters) - Syrian opposition will form a 50-member delegation to participate in U.N.-sponsored talks in Geneva, the main Syrian opposition meeting in the Saudi capital Riyadh told a news conference late on Thursday.   There will be further meetings tomorrow to decide the members of the delegation and determine its working mechanism,  Basma Qadmani, a member of the National Coalition for Syrian Revolutionary and Opposition Forces, said.  \n",
            "\n",
            "Label/class: 0\n"
          ]
        }
      ]
    },
    {
      "cell_type": "markdown",
      "source": [
        "**Data Visualization**"
      ],
      "metadata": {
        "id": "ncmn-qORRCxd"
      }
    },
    {
      "cell_type": "code",
      "source": [
        "#create a data visualzation of bar/column/line chart of top 5 subjects ->\n",
        "top_5_subjects = (df['subject'].value_counts()).nlargest(5)\n",
        "top_5_subjects.plot(kind='bar', edgecolor='black', stacked=True)\n",
        "plt.xlabel('Subject Name')\n",
        "plt.ylabel('Number of News')"
      ],
      "metadata": {
        "colab": {
          "base_uri": "https://localhost:8080/",
          "height": 539
        },
        "id": "Ji6diJ8MIzdm",
        "outputId": "0c477883-9a8a-4ef6-dbd1-6846e9bf6bd2"
      },
      "execution_count": null,
      "outputs": [
        {
          "output_type": "execute_result",
          "data": {
            "text/plain": [
              "Text(0, 0.5, 'Number of News')"
            ]
          },
          "metadata": {},
          "execution_count": 14
        },
        {
          "output_type": "display_data",
          "data": {
            "text/plain": [
              "<Figure size 640x480 with 1 Axes>"
            ],
            "image/png": "[encoded data removed]"
          },
          "metadata": {}
        }
      ]
    },
    {
      "cell_type": "markdown",
      "source": [
        "**Q5.** Create a pie chart to find the pecentage of news on differenet subject."
      ],
      "metadata": {
        "id": "VKGG5NPoVeMc"
      }
    },
    {
      "cell_type": "code",
      "source": [
        "import matplotlib.pyplot as plt\n",
        "\n",
        "# replace 'subject' with the actual column name for subject/category\n",
        "if 'subject' not in df.columns:\n",
        "    print(\"Column 'subject' not found. Columns:\", df.columns)\n",
        "else:\n",
        "    subject_counts = df['subject'].value_counts()\n",
        "    plt.figure(figsize=(7,7))\n",
        "    plt.pie(subject_counts, labels=subject_counts.index, autopct='%1.1f%%', startangle=140)\n",
        "    plt.title(\"Percentage of news by subject\")\n",
        "    plt.axis('equal')\n",
        "    plt.show()"
      ],
      "metadata": {
        "id": "Jpm3uqL3V6r8",
        "colab": {
          "base_uri": "https://localhost:8080/",
          "height": 607
        },
        "outputId": "38f63c8c-5256-4bd7-cc35-7bdd505362b8"
      },
      "execution_count": null,
      "outputs": [
        {
          "output_type": "display_data",
          "data": {
            "text/plain": [
              "<Figure size 700x700 with 1 Axes>"
            ],
            "image/png": "[encoded data removed]"
          },
          "metadata": {}
        }
      ]
    },
    {
      "cell_type": "markdown",
      "source": [
        "**Text Processing**"
      ],
      "metadata": {
        "id": "XpYByiMRzkqh"
      }
    },
    {
      "cell_type": "code",
      "source": [
        "# function to remove space,special charecter and convert all text into lower case\n",
        "def wordopt(text):\n",
        "  text = text.lower()\n",
        "  text= re.sub(r'https://\\S+|www\\.\\S+','',text) # remove https:// or www.com\n",
        "  text = re.sub(r'[^\\w]',' ', text) #remove special charecter\n",
        "  text= re.sub(r'\\s+',' ',text) #remove multiple space\n",
        "\n",
        "  return text"
      ],
      "metadata": {
        "id": "VTzJE7XygtnG"
      },
      "execution_count": null,
      "outputs": []
    },
    {
      "cell_type": "code",
      "source": [
        "# drop unnecessary columns for classification purpose\n",
        "df1= df.drop(['title','subject','date'],axis=1)"
      ],
      "metadata": {
        "id": "CxBAn_R2gYtZ"
      },
      "execution_count": null,
      "outputs": []
    },
    {
      "cell_type": "code",
      "source": [
        "# apply wordopt method to the whole dataset and view the text content of a random data point\n",
        "df1['text']=df1['text'].apply(wordopt)\n",
        "df1['text'][100]"
      ],
      "metadata": {
        "colab": {
          "base_uri": "https://localhost:8080/",
          "height": 105
        },
        "id": "tg5lNxJtGksY",
        "outputId": "5be27ab7-1d22-475b-9921-602e9df616d8"
      },
      "execution_count": null,
      "outputs": [
        {
          "output_type": "execute_result",
          "data": {
            "text/plain": [
              "'washington reuters president barack obama said on wednesday the united states is not as organized as it needs to be to step up its protections against cyber threats and that making improvements would be a complex task lasting well beyond his time in office obama made his comments after meeting in the oval office with two advisers who will lead a new commission tasked with making recommendations by the end of the year on a long term plan for cybersecurity upgrades obama did not respond to questions from reporters about a court order demanding that apple inc unlock an iphone of one of the shooters in december s attacks in san bernardino california '"
            ],
            "application/vnd.google.colaboratory.intrinsic+json": {
              "type": "string"
            }
          },
          "metadata": {},
          "execution_count": 18
        }
      ]
    },
    {
      "cell_type": "markdown",
      "source": [
        "# **Building Model**"
      ],
      "metadata": {
        "id": "7zOv17e_5vnY"
      }
    },
    {
      "cell_type": "code",
      "source": [
        "# Separate independent and target columns from the dataset and stored them in x & y variables\n",
        "x= df1['text']\n",
        "y= df1['class']"
      ],
      "metadata": {
        "id": "QndHYbDu50RF"
      },
      "execution_count": null,
      "outputs": []
    },
    {
      "cell_type": "markdown",
      "source": [
        "**Q6.** Split the dataset into training and testing sets with 25% test size and store them in x_train, x_test, y_train, and y_test."
      ],
      "metadata": {
        "id": "vdbNrbifWSK1"
      }
    },
    {
      "cell_type": "code",
      "source": [
        "x_train, x_test, y_train, y_test = train_test_split(x, y, test_size=0.25, random_state=42, stratify=y)\n",
        "\n",
        "print(\"Train size:\", len(x_train), \"Test size:\", len(x_test))"
      ],
      "metadata": {
        "id": "rKDEsZHE6Ab2",
        "colab": {
          "base_uri": "https://localhost:8080/"
        },
        "outputId": "0fd069f7-3c7b-4072-b29f-48b65c619b2e"
      },
      "execution_count": null,
      "outputs": [
        {
          "output_type": "stream",
          "name": "stdout",
          "text": [
            "Train size: 33673 Test size: 11225\n"
          ]
        }
      ]
    },
    {
      "cell_type": "markdown",
      "source": [
        "## **Word Embedding ( Word2Vec )**"
      ],
      "metadata": {
        "id": "3wRqdiRIkqTe"
      }
    },
    {
      "cell_type": "code",
      "source": [
        "# import bbc_news data using url link in json format for training Word2Vec word embedding model\n",
        "news = pd.read_json('https://query.data.world/s/7c6p2lxb3wjibfsfbp4mwy7p7y4y2d?dws=00000')\n",
        "news_seg = news['content']\n",
        "print(\"Size of Word Dictonary for training Word2Vec: \",news_seg.shape[0])\n",
        "news_seg.head(2)"
      ],
      "metadata": {
        "colab": {
          "base_uri": "https://localhost:8080/",
          "height": 164
        },
        "id": "SdpOD3v-mLmT",
        "outputId": "16c43428-7b45-48fe-cc9a-b783f4f44fdd"
      },
      "execution_count": null,
      "outputs": [
        {
          "output_type": "stream",
          "name": "stdout",
          "text": [
            "Size of Word Dictonary for training Word2Vec:  15825\n"
          ]
        },
        {
          "output_type": "execute_result",
          "data": {
            "text/plain": [
              "0    The heroin substitute methadone can be used as...\n",
              "1    The eldest son of North Korean leader Kim Jong...\n",
              "Name: content, dtype: object"
            ],
            "text/html": [
              "<div>\n",
              "<style scoped>\n",
              "    .dataframe tbody tr th:only-of-type {\n",
              "        vertical-align: middle;\n",
              "    }\n",
              "\n",
              "    .dataframe tbody tr th {\n",
              "        vertical-align: top;\n",
              "    }\n",
              "\n",
              "    .dataframe thead th {\n",
              "        text-align: right;\n",
              "    }\n",
              "</style>\n",
              "<table border=\"1\" class=\"dataframe\">\n",
              "  <thead>\n",
              "    <tr style=\"text-align: right;\">\n",
              "      <th></th>\n",
              "      <th>content</th>\n",
              "    </tr>\n",
              "  </thead>\n",
              "  <tbody>\n",
              "    <tr>\n",
              "      <th>0</th>\n",
              "      <td>The heroin substitute methadone can be used as...</td>\n",
              "    </tr>\n",
              "    <tr>\n",
              "      <th>1</th>\n",
              "      <td>The eldest son of North Korean leader Kim Jong...</td>\n",
              "    </tr>\n",
              "  </tbody>\n",
              "</table>\n",
              "</div><br><label><b>dtype:</b> object</label>"
            ]
          },
          "metadata": {},
          "execution_count": 21
        }
      ]
    },
    {
      "cell_type": "code",
      "source": [
        "# apply wordopt function for text processing\n",
        "news_seg=news_seg.apply(wordopt)\n",
        "sentences = [sentence.split() for sentence in news_seg ]\n",
        "w2v_model = Word2Vec(sentences,  window=5, min_count=5, workers=4)"
      ],
      "metadata": {
        "id": "AsJm3KoQQqVg"
      },
      "execution_count": null,
      "outputs": []
    },
    {
      "cell_type": "code",
      "source": [
        "# function to convert a sentence into vector form\n",
        "def vectorize(sentence):\n",
        "    words = sentence.split()\n",
        "    words_vecs = [w2v_model.wv[word] for word in words if word in w2v_model.wv]\n",
        "    if len(words_vecs) == 0:\n",
        "        return np.zeros(100)\n",
        "    words_vecs = np.array(words_vecs)\n",
        "    return words_vecs.mean(axis=0)"
      ],
      "metadata": {
        "id": "lArJrYw97x1y"
      },
      "execution_count": null,
      "outputs": []
    },
    {
      "cell_type": "code",
      "source": [
        "# convert train and test dataset into vector form\n",
        "xv_train = np.array([vectorize(sentence) for sentence in x_train])\n",
        "xv_test = np.array([vectorize(sentence) for sentence in x_test])"
      ],
      "metadata": {
        "id": "NWzl8y8uldSE"
      },
      "execution_count": null,
      "outputs": []
    },
    {
      "cell_type": "markdown",
      "source": [
        "##**Logistic Regression**"
      ],
      "metadata": {
        "id": "VzFibvAbYktA"
      }
    },
    {
      "cell_type": "code",
      "source": [
        "# Trains a Logistic Regression model using vector formed trained data ->\n",
        "from sklearn.linear_model import LogisticRegression\n",
        "logistic_model = LogisticRegression()\n",
        "logistic_model.fit(xv_train,y_train)"
      ],
      "metadata": {
        "id": "DEuVqu0P7KnJ",
        "colab": {
          "base_uri": "https://localhost:8080/",
          "height": 80
        },
        "outputId": "41f1fc6a-dd3d-43c2-81e3-be1b4db42f83"
      },
      "execution_count": null,
      "outputs": [
        {
          "output_type": "execute_result",
          "data": {
            "text/plain": [
              "LogisticRegression()"
            ],
            "text/html": [
              "<style>#sk-container-id-1 {\n",
              "  /* Definition of color scheme common for light and dark mode */\n",
              "  --sklearn-color-text: #000;\n",
              "  --sklearn-color-text-muted: #666;\n",
              "  --sklearn-color-line: gray;\n",
              "  /* Definition of color scheme for unfitted estimators */\n",
              "  --sklearn-color-unfitted-level-0: #fff5e6;\n",
              "  --sklearn-color-unfitted-level-1: #f6e4d2;\n",
              "  --sklearn-color-unfitted-level-2: #ffe0b3;\n",
              "  --sklearn-color-unfitted-level-3: chocolate;\n",
              "  /* Definition of color scheme for fitted estimators */\n",
              "  --sklearn-color-fitted-level-0: #f0f8ff;\n",
              "  --sklearn-color-fitted-level-1: #d4ebff;\n",
              "  --sklearn-color-fitted-level-2: #b3dbfd;\n",
              "  --sklearn-color-fitted-level-3: cornflowerblue;\n",
              "\n",
              "  /* Specific color for light theme */\n",
              "  --sklearn-color-text-on-default-background: var(--sg-text-color, var(--theme-code-foreground, var(--jp-content-font-color1, black)));\n",
              "  --sklearn-color-background: var(--sg-background-color, var(--theme-background, var(--jp-layout-color0, white)));\n",
              "  --sklearn-color-border-box: var(--sg-text-color, var(--theme-code-foreground, var(--jp-content-font-color1, black)));\n",
              "  --sklearn-color-icon: #696969;\n",
              "\n",
              "  @media (prefers-color-scheme: dark) {\n",
              "    /* Redefinition of color scheme for dark theme */\n",
              "    --sklearn-color-text-on-default-background: var(--sg-text-color, var(--theme-code-foreground, var(--jp-content-font-color1, white)));\n",
              "    --sklearn-color-background: var(--sg-background-color, var(--theme-background, var(--jp-layout-color0, #111)));\n",
              "    --sklearn-color-border-box: var(--sg-text-color, var(--theme-code-foreground, var(--jp-content-font-color1, white)));\n",
              "    --sklearn-color-icon: #878787;\n",
              "  }\n",
              "}\n",
              "\n",
              "#sk-container-id-1 {\n",
              "  color: var(--sklearn-color-text);\n",
              "}\n",
              "\n",
              "#sk-container-id-1 pre {\n",
              "  padding: 0;\n",
              "}\n",
              "\n",
              "#sk-container-id-1 input.sk-hidden--visually {\n",
              "  border: 0;\n",
              "  clip: rect(1px 1px 1px 1px);\n",
              "  clip: rect(1px, 1px, 1px, 1px);\n",
              "  height: 1px;\n",
              "  margin: -1px;\n",
              "  overflow: hidden;\n",
              "  padding: 0;\n",
              "  position: absolute;\n",
              "  width: 1px;\n",
              "}\n",
              "\n",
              "#sk-container-id-1 div.sk-dashed-wrapped {\n",
              "  border: 1px dashed var(--sklearn-color-line);\n",
              "  margin: 0 0.4em 0.5em 0.4em;\n",
              "  box-sizing: border-box;\n",
              "  padding-bottom: 0.4em;\n",
              "  background-color: var(--sklearn-color-background);\n",
              "}\n",
              "\n",
              "#sk-container-id-1 div.sk-container {\n",
              "  /* jupyter's `normalize.less` sets `[hidden] { display: none; }`\n",
              "     but bootstrap.min.css set `[hidden] { display: none !important; }`\n",
              "     so we also need the `!important` here to be able to override the\n",
              "     default hidden behavior on the sphinx rendered scikit-learn.org.\n",
              "     See: https://github.com/scikit-learn/scikit-learn/issues/21755 */\n",
              "  display: inline-block !important;\n",
              "  position: relative;\n",
              "}\n",
              "\n",
              "#sk-container-id-1 div.sk-text-repr-fallback {\n",
              "  display: none;\n",
              "}\n",
              "\n",
              "div.sk-parallel-item,\n",
              "div.sk-serial,\n",
              "div.sk-item {\n",
              "  /* draw centered vertical line to link estimators */\n",
              "  background-image: linear-gradient(var(--sklearn-color-text-on-default-background), var(--sklearn-color-text-on-default-background));\n",
              "  background-size: 2px 100%;\n",
              "  background-repeat: no-repeat;\n",
              "  background-position: center center;\n",
              "}\n",
              "\n",
              "/* Parallel-specific style estimator block */\n",
              "\n",
              "#sk-container-id-1 div.sk-parallel-item::after {\n",
              "  content: \"\";\n",
              "  width: 100%;\n",
              "  border-bottom: 2px solid var(--sklearn-color-text-on-default-background);\n",
              "  flex-grow: 1;\n",
              "}\n",
              "\n",
              "#sk-container-id-1 div.sk-parallel {\n",
              "  display: flex;\n",
              "  align-items: stretch;\n",
              "  justify-content: center;\n",
              "  background-color: var(--sklearn-color-background);\n",
              "  position: relative;\n",
              "}\n",
              "\n",
              "#sk-container-id-1 div.sk-parallel-item {\n",
              "  display: flex;\n",
              "  flex-direction: column;\n",
              "}\n",
              "\n",
              "#sk-container-id-1 div.sk-parallel-item:first-child::after {\n",
              "  align-self: flex-end;\n",
              "  width: 50%;\n",
              "}\n",
              "\n",
              "#sk-container-id-1 div.sk-parallel-item:last-child::after {\n",
              "  align-self: flex-start;\n",
              "  width: 50%;\n",
              "}\n",
              "\n",
              "#sk-container-id-1 div.sk-parallel-item:only-child::after {\n",
              "  width: 0;\n",
              "}\n",
              "\n",
              "/* Serial-specific style estimator block */\n",
              "\n",
              "#sk-container-id-1 div.sk-serial {\n",
              "  display: flex;\n",
              "  flex-direction: column;\n",
              "  align-items: center;\n",
              "  background-color: var(--sklearn-color-background);\n",
              "  padding-right: 1em;\n",
              "  padding-left: 1em;\n",
              "}\n",
              "\n",
              "\n",
              "/* Toggleable style: style used for estimator/Pipeline/ColumnTransformer box that is\n",
              "clickable and can be expanded/collapsed.\n",
              "- Pipeline and ColumnTransformer use this feature and define the default style\n",
              "- Estimators will overwrite some part of the style using the `sk-estimator` class\n",
              "*/\n",
              "\n",
              "/* Pipeline and ColumnTransformer style (default) */\n",
              "\n",
              "#sk-container-id-1 div.sk-toggleable {\n",
              "  /* Default theme specific background. It is overwritten whether we have a\n",
              "  specific estimator or a Pipeline/ColumnTransformer */\n",
              "  background-color: var(--sklearn-color-background);\n",
              "}\n",
              "\n",
              "/* Toggleable label */\n",
              "#sk-container-id-1 label.sk-toggleable__label {\n",
              "  cursor: pointer;\n",
              "  display: flex;\n",
              "  width: 100%;\n",
              "  margin-bottom: 0;\n",
              "  padding: 0.5em;\n",
              "  box-sizing: border-box;\n",
              "  text-align: center;\n",
              "  align-items: start;\n",
              "  justify-content: space-between;\n",
              "  gap: 0.5em;\n",
              "}\n",
              "\n",
              "#sk-container-id-1 label.sk-toggleable__label .caption {\n",
              "  font-size: 0.6rem;\n",
              "  font-weight: lighter;\n",
              "  color: var(--sklearn-color-text-muted);\n",
              "}\n",
              "\n",
              "#sk-container-id-1 label.sk-toggleable__label-arrow:before {\n",
              "  /* Arrow on the left of the label */\n",
              "  content: \"▸\";\n",
              "  float: left;\n",
              "  margin-right: 0.25em;\n",
              "  color: var(--sklearn-color-icon);\n",
              "}\n",
              "\n",
              "#sk-container-id-1 label.sk-toggleable__label-arrow:hover:before {\n",
              "  color: var(--sklearn-color-text);\n",
              "}\n",
              "\n",
              "/* Toggleable content - dropdown */\n",
              "\n",
              "#sk-container-id-1 div.sk-toggleable__content {\n",
              "  max-height: 0;\n",
              "  max-width: 0;\n",
              "  overflow: hidden;\n",
              "  text-align: left;\n",
              "  /* unfitted */\n",
              "  background-color: var(--sklearn-color-unfitted-level-0);\n",
              "}\n",
              "\n",
              "#sk-container-id-1 div.sk-toggleable__content.fitted {\n",
              "  /* fitted */\n",
              "  background-color: var(--sklearn-color-fitted-level-0);\n",
              "}\n",
              "\n",
              "#sk-container-id-1 div.sk-toggleable__content pre {\n",
              "  margin: 0.2em;\n",
              "  border-radius: 0.25em;\n",
              "  color: var(--sklearn-color-text);\n",
              "  /* unfitted */\n",
              "  background-color: var(--sklearn-color-unfitted-level-0);\n",
              "}\n",
              "\n",
              "#sk-container-id-1 div.sk-toggleable__content.fitted pre {\n",
              "  /* unfitted */\n",
              "  background-color: var(--sklearn-color-fitted-level-0);\n",
              "}\n",
              "\n",
              "#sk-container-id-1 input.sk-toggleable__control:checked~div.sk-toggleable__content {\n",
              "  /* Expand drop-down */\n",
              "  max-height: 200px;\n",
              "  max-width: 100%;\n",
              "  overflow: auto;\n",
              "}\n",
              "\n",
              "#sk-container-id-1 input.sk-toggleable__control:checked~label.sk-toggleable__label-arrow:before {\n",
              "  content: \"▾\";\n",
              "}\n",
              "\n",
              "/* Pipeline/ColumnTransformer-specific style */\n",
              "\n",
              "#sk-container-id-1 div.sk-label input.sk-toggleable__control:checked~label.sk-toggleable__label {\n",
              "  color: var(--sklearn-color-text);\n",
              "  background-color: var(--sklearn-color-unfitted-level-2);\n",
              "}\n",
              "\n",
              "#sk-container-id-1 div.sk-label.fitted input.sk-toggleable__control:checked~label.sk-toggleable__label {\n",
              "  background-color: var(--sklearn-color-fitted-level-2);\n",
              "}\n",
              "\n",
              "/* Estimator-specific style */\n",
              "\n",
              "/* Colorize estimator box */\n",
              "#sk-container-id-1 div.sk-estimator input.sk-toggleable__control:checked~label.sk-toggleable__label {\n",
              "  /* unfitted */\n",
              "  background-color: var(--sklearn-color-unfitted-level-2);\n",
              "}\n",
              "\n",
              "#sk-container-id-1 div.sk-estimator.fitted input.sk-toggleable__control:checked~label.sk-toggleable__label {\n",
              "  /* fitted */\n",
              "  background-color: var(--sklearn-color-fitted-level-2);\n",
              "}\n",
              "\n",
              "#sk-container-id-1 div.sk-label label.sk-toggleable__label,\n",
              "#sk-container-id-1 div.sk-label label {\n",
              "  /* The background is the default theme color */\n",
              "  color: var(--sklearn-color-text-on-default-background);\n",
              "}\n",
              "\n",
              "/* On hover, darken the color of the background */\n",
              "#sk-container-id-1 div.sk-label:hover label.sk-toggleable__label {\n",
              "  color: var(--sklearn-color-text);\n",
              "  background-color: var(--sklearn-color-unfitted-level-2);\n",
              "}\n",
              "\n",
              "/* Label box, darken color on hover, fitted */\n",
              "#sk-container-id-1 div.sk-label.fitted:hover label.sk-toggleable__label.fitted {\n",
              "  color: var(--sklearn-color-text);\n",
              "  background-color: var(--sklearn-color-fitted-level-2);\n",
              "}\n",
              "\n",
              "/* Estimator label */\n",
              "\n",
              "#sk-container-id-1 div.sk-label label {\n",
              "  font-family: monospace;\n",
              "  font-weight: bold;\n",
              "  display: inline-block;\n",
              "  line-height: 1.2em;\n",
              "}\n",
              "\n",
              "#sk-container-id-1 div.sk-label-container {\n",
              "  text-align: center;\n",
              "}\n",
              "\n",
              "/* Estimator-specific */\n",
              "#sk-container-id-1 div.sk-estimator {\n",
              "  font-family: monospace;\n",
              "  border: 1px dotted var(--sklearn-color-border-box);\n",
              "  border-radius: 0.25em;\n",
              "  box-sizing: border-box;\n",
              "  margin-bottom: 0.5em;\n",
              "  /* unfitted */\n",
              "  background-color: var(--sklearn-color-unfitted-level-0);\n",
              "}\n",
              "\n",
              "#sk-container-id-1 div.sk-estimator.fitted {\n",
              "  /* fitted */\n",
              "  background-color: var(--sklearn-color-fitted-level-0);\n",
              "}\n",
              "\n",
              "/* on hover */\n",
              "#sk-container-id-1 div.sk-estimator:hover {\n",
              "  /* unfitted */\n",
              "  background-color: var(--sklearn-color-unfitted-level-2);\n",
              "}\n",
              "\n",
              "#sk-container-id-1 div.sk-estimator.fitted:hover {\n",
              "  /* fitted */\n",
              "  background-color: var(--sklearn-color-fitted-level-2);\n",
              "}\n",
              "\n",
              "/* Specification for estimator info (e.g. \"i\" and \"?\") */\n",
              "\n",
              "/* Common style for \"i\" and \"?\" */\n",
              "\n",
              ".sk-estimator-doc-link,\n",
              "a:link.sk-estimator-doc-link,\n",
              "a:visited.sk-estimator-doc-link {\n",
              "  float: right;\n",
              "  font-size: smaller;\n",
              "  line-height: 1em;\n",
              "  font-family: monospace;\n",
              "  background-color: var(--sklearn-color-background);\n",
              "  border-radius: 1em;\n",
              "  height: 1em;\n",
              "  width: 1em;\n",
              "  text-decoration: none !important;\n",
              "  margin-left: 0.5em;\n",
              "  text-align: center;\n",
              "  /* unfitted */\n",
              "  border: var(--sklearn-color-unfitted-level-1) 1pt solid;\n",
              "  color: var(--sklearn-color-unfitted-level-1);\n",
              "}\n",
              "\n",
              ".sk-estimator-doc-link.fitted,\n",
              "a:link.sk-estimator-doc-link.fitted,\n",
              "a:visited.sk-estimator-doc-link.fitted {\n",
              "  /* fitted */\n",
              "  border: var(--sklearn-color-fitted-level-1) 1pt solid;\n",
              "  color: var(--sklearn-color-fitted-level-1);\n",
              "}\n",
              "\n",
              "/* On hover */\n",
              "div.sk-estimator:hover .sk-estimator-doc-link:hover,\n",
              ".sk-estimator-doc-link:hover,\n",
              "div.sk-label-container:hover .sk-estimator-doc-link:hover,\n",
              ".sk-estimator-doc-link:hover {\n",
              "  /* unfitted */\n",
              "  background-color: var(--sklearn-color-unfitted-level-3);\n",
              "  color: var(--sklearn-color-background);\n",
              "  text-decoration: none;\n",
              "}\n",
              "\n",
              "div.sk-estimator.fitted:hover .sk-estimator-doc-link.fitted:hover,\n",
              ".sk-estimator-doc-link.fitted:hover,\n",
              "div.sk-label-container:hover .sk-estimator-doc-link.fitted:hover,\n",
              ".sk-estimator-doc-link.fitted:hover {\n",
              "  /* fitted */\n",
              "  background-color: var(--sklearn-color-fitted-level-3);\n",
              "  color: var(--sklearn-color-background);\n",
              "  text-decoration: none;\n",
              "}\n",
              "\n",
              "/* Span, style for the box shown on hovering the info icon */\n",
              ".sk-estimator-doc-link span {\n",
              "  display: none;\n",
              "  z-index: 9999;\n",
              "  position: relative;\n",
              "  font-weight: normal;\n",
              "  right: .2ex;\n",
              "  padding: .5ex;\n",
              "  margin: .5ex;\n",
              "  width: min-content;\n",
              "  min-width: 20ex;\n",
              "  max-width: 50ex;\n",
              "  color: var(--sklearn-color-text);\n",
              "  box-shadow: 2pt 2pt 4pt #999;\n",
              "  /* unfitted */\n",
              "  background: var(--sklearn-color-unfitted-level-0);\n",
              "  border: .5pt solid var(--sklearn-color-unfitted-level-3);\n",
              "}\n",
              "\n",
              ".sk-estimator-doc-link.fitted span {\n",
              "  /* fitted */\n",
              "  background: var(--sklearn-color-fitted-level-0);\n",
              "  border: var(--sklearn-color-fitted-level-3);\n",
              "}\n",
              "\n",
              ".sk-estimator-doc-link:hover span {\n",
              "  display: block;\n",
              "}\n",
              "\n",
              "/* \"?\"-specific style due to the `<a>` HTML tag */\n",
              "\n",
              "#sk-container-id-1 a.estimator_doc_link {\n",
              "  float: right;\n",
              "  font-size: 1rem;\n",
              "  line-height: 1em;\n",
              "  font-family: monospace;\n",
              "  background-color: var(--sklearn-color-background);\n",
              "  border-radius: 1rem;\n",
              "  height: 1rem;\n",
              "  width: 1rem;\n",
              "  text-decoration: none;\n",
              "  /* unfitted */\n",
              "  color: var(--sklearn-color-unfitted-level-1);\n",
              "  border: var(--sklearn-color-unfitted-level-1) 1pt solid;\n",
              "}\n",
              "\n",
              "#sk-container-id-1 a.estimator_doc_link.fitted {\n",
              "  /* fitted */\n",
              "  border: var(--sklearn-color-fitted-level-1) 1pt solid;\n",
              "  color: var(--sklearn-color-fitted-level-1);\n",
              "}\n",
              "\n",
              "/* On hover */\n",
              "#sk-container-id-1 a.estimator_doc_link:hover {\n",
              "  /* unfitted */\n",
              "  background-color: var(--sklearn-color-unfitted-level-3);\n",
              "  color: var(--sklearn-color-background);\n",
              "  text-decoration: none;\n",
              "}\n",
              "\n",
              "#sk-container-id-1 a.estimator_doc_link.fitted:hover {\n",
              "  /* fitted */\n",
              "  background-color: var(--sklearn-color-fitted-level-3);\n",
              "}\n",
              "</style><div id=\"sk-container-id-1\" class=\"sk-top-container\"><div class=\"sk-text-repr-fallback\"><pre>LogisticRegression()</pre><b>In a Jupyter environment, please rerun this cell to show the HTML representation or trust the notebook. <br />On GitHub, the HTML representation is unable to render, please try loading this page with nbviewer.org.</b></div><div class=\"sk-container\" hidden><div class=\"sk-item\"><div class=\"sk-estimator fitted sk-toggleable\"><input class=\"sk-toggleable__control sk-hidden--visually\" id=\"sk-estimator-id-1\" type=\"checkbox\" checked><label for=\"sk-estimator-id-1\" class=\"sk-toggleable__label fitted sk-toggleable__label-arrow\"><div><div>LogisticRegression</div></div><div><a class=\"sk-estimator-doc-link fitted\" rel=\"noreferrer\" target=\"_blank\" href=\"https://scikit-learn.org/1.6/modules/generated/sklearn.linear_model.LogisticRegression.html\">?<span>Documentation for LogisticRegression</span></a><span class=\"sk-estimator-doc-link fitted\">i<span>Fitted</span></span></div></label><div class=\"sk-toggleable__content fitted\"><pre>LogisticRegression()</pre></div> </div></div></div></div>"
            ]
          },
          "metadata": {},
          "execution_count": 25
        }
      ]
    },
    {
      "cell_type": "code",
      "source": [
        "# detect the class(fake or true) on test data and evaluates its accuracy on test set\n",
        "y_pred = logistic_model.predict(xv_test)\n",
        "print(\"Prediction on test data: \",y_pred)\n",
        "print(\"Accuracy Score on Test Data: \",logistic_model.score(xv_test,y_test))"
      ],
      "metadata": {
        "colab": {
          "base_uri": "https://localhost:8080/"
        },
        "id": "uq6D891a7oTo",
        "outputId": "c589ded4-ed97-41b0-9bcc-c747f1e4af25"
      },
      "execution_count": null,
      "outputs": [
        {
          "output_type": "stream",
          "name": "stdout",
          "text": [
            "Prediction on test data:  [1 0 1 ... 1 0 0]\n",
            "Accuracy Score on Test Data:  0.9434298440979956\n"
          ]
        }
      ]
    },
    {
      "cell_type": "markdown",
      "source": [
        "####**Accuracy Checking**"
      ],
      "metadata": {
        "id": "yJdKrQTFnK1Z"
      }
    },
    {
      "cell_type": "code",
      "source": [
        "# Check Precision, Recall, F1 Score of the logistic model ->\n",
        "print('Accuracy:', accuracy_score(y_test, y_pred))\n",
        "print('Precision:', precision_score(y_test, y_pred))\n",
        "print('Recall:', recall_score(y_test, y_pred))\n",
        "print('F1 score:', f1_score(y_test, y_pred))"
      ],
      "metadata": {
        "colab": {
          "base_uri": "https://localhost:8080/"
        },
        "id": "0VA7sBRdnR-k",
        "outputId": "dbd5a8e6-d836-4420-cda8-ff7e23d3693f"
      },
      "execution_count": null,
      "outputs": [
        {
          "output_type": "stream",
          "name": "stdout",
          "text": [
            "Accuracy: 0.9434298440979956\n",
            "Precision: 0.9485949280328992\n",
            "Recall: 0.9429398739567365\n",
            "F1 score: 0.9457589476381651\n"
          ]
        }
      ]
    },
    {
      "cell_type": "code",
      "source": [
        "# Check overall accuracy using confusion matrix\n",
        "from sklearn.metrics import confusion_matrix,ConfusionMatrixDisplay\n",
        "cm= confusion_matrix(y_test,y_pred)\n",
        "cm_display = ConfusionMatrixDisplay(confusion_matrix = cm)\n",
        "cm_display.plot()\n",
        "plt.show()"
      ],
      "metadata": {
        "colab": {
          "base_uri": "https://localhost:8080/",
          "height": 449
        },
        "id": "AoxgjMi7Y9HD",
        "outputId": "29b51484-ebd0-4f86-fc61-c9bc515e4c18"
      },
      "execution_count": null,
      "outputs": [
        {
          "output_type": "display_data",
          "data": {
            "text/plain": [
              "<Figure size 640x480 with 2 Axes>"
            ],
            "image/png": "[encoded data removed]"
          },
          "metadata": {}
        }
      ]
    },
    {
      "cell_type": "markdown",
      "source": [
        "##**Random Forest Classifier**"
      ],
      "metadata": {
        "id": "4mLirHL-J4kT"
      }
    },
    {
      "cell_type": "markdown",
      "source": [
        "####**Model Building and Prediction**"
      ],
      "metadata": {
        "id": "XvJgJX0yYG0M"
      }
    },
    {
      "cell_type": "markdown",
      "source": [
        "**Q7.** Use Random Forest Classifer for this classfication purpose and predict the outcomes for test data."
      ],
      "metadata": {
        "id": "OpT7bxd9XfYM"
      }
    },
    {
      "cell_type": "code",
      "source": [
        "from sklearn.ensemble import RandomForestClassifier\n",
        "rf_model = RandomForestClassifier()\n",
        "rf_model.fit(xv_train,y_train)"
      ],
      "metadata": {
        "id": "pBkqgPskKf6f",
        "colab": {
          "base_uri": "https://localhost:8080/",
          "height": 80
        },
        "outputId": "7ac88742-c418-43ff-de47-dd1cf499ccd1"
      },
      "execution_count": null,
      "outputs": [
        {
          "output_type": "execute_result",
          "data": {
            "text/plain": [
              "RandomForestClassifier()"
            ],
            "text/html": [
              "<style>#sk-container-id-2 {\n",
              "  /* Definition of color scheme common for light and dark mode */\n",
              "  --sklearn-color-text: #000;\n",
              "  --sklearn-color-text-muted: #666;\n",
              "  --sklearn-color-line: gray;\n",
              "  /* Definition of color scheme for unfitted estimators */\n",
              "  --sklearn-color-unfitted-level-0: #fff5e6;\n",
              "  --sklearn-color-unfitted-level-1: #f6e4d2;\n",
              "  --sklearn-color-unfitted-level-2: #ffe0b3;\n",
              "  --sklearn-color-unfitted-level-3: chocolate;\n",
              "  /* Definition of color scheme for fitted estimators */\n",
              "  --sklearn-color-fitted-level-0: #f0f8ff;\n",
              "  --sklearn-color-fitted-level-1: #d4ebff;\n",
              "  --sklearn-color-fitted-level-2: #b3dbfd;\n",
              "  --sklearn-color-fitted-level-3: cornflowerblue;\n",
              "\n",
              "  /* Specific color for light theme */\n",
              "  --sklearn-color-text-on-default-background: var(--sg-text-color, var(--theme-code-foreground, var(--jp-content-font-color1, black)));\n",
              "  --sklearn-color-background: var(--sg-background-color, var(--theme-background, var(--jp-layout-color0, white)));\n",
              "  --sklearn-color-border-box: var(--sg-text-color, var(--theme-code-foreground, var(--jp-content-font-color1, black)));\n",
              "  --sklearn-color-icon: #696969;\n",
              "\n",
              "  @media (prefers-color-scheme: dark) {\n",
              "    /* Redefinition of color scheme for dark theme */\n",
              "    --sklearn-color-text-on-default-background: var(--sg-text-color, var(--theme-code-foreground, var(--jp-content-font-color1, white)));\n",
              "    --sklearn-color-background: var(--sg-background-color, var(--theme-background, var(--jp-layout-color0, #111)));\n",
              "    --sklearn-color-border-box: var(--sg-text-color, var(--theme-code-foreground, var(--jp-content-font-color1, white)));\n",
              "    --sklearn-color-icon: #878787;\n",
              "  }\n",
              "}\n",
              "\n",
              "#sk-container-id-2 {\n",
              "  color: var(--sklearn-color-text);\n",
              "}\n",
              "\n",
              "#sk-container-id-2 pre {\n",
              "  padding: 0;\n",
              "}\n",
              "\n",
              "#sk-container-id-2 input.sk-hidden--visually {\n",
              "  border: 0;\n",
              "  clip: rect(1px 1px 1px 1px);\n",
              "  clip: rect(1px, 1px, 1px, 1px);\n",
              "  height: 1px;\n",
              "  margin: -1px;\n",
              "  overflow: hidden;\n",
              "  padding: 0;\n",
              "  position: absolute;\n",
              "  width: 1px;\n",
              "}\n",
              "\n",
              "#sk-container-id-2 div.sk-dashed-wrapped {\n",
              "  border: 1px dashed var(--sklearn-color-line);\n",
              "  margin: 0 0.4em 0.5em 0.4em;\n",
              "  box-sizing: border-box;\n",
              "  padding-bottom: 0.4em;\n",
              "  background-color: var(--sklearn-color-background);\n",
              "}\n",
              "\n",
              "#sk-container-id-2 div.sk-container {\n",
              "  /* jupyter's `normalize.less` sets `[hidden] { display: none; }`\n",
              "     but bootstrap.min.css set `[hidden] { display: none !important; }`\n",
              "     so we also need the `!important` here to be able to override the\n",
              "     default hidden behavior on the sphinx rendered scikit-learn.org.\n",
              "     See: https://github.com/scikit-learn/scikit-learn/issues/21755 */\n",
              "  display: inline-block !important;\n",
              "  position: relative;\n",
              "}\n",
              "\n",
              "#sk-container-id-2 div.sk-text-repr-fallback {\n",
              "  display: none;\n",
              "}\n",
              "\n",
              "div.sk-parallel-item,\n",
              "div.sk-serial,\n",
              "div.sk-item {\n",
              "  /* draw centered vertical line to link estimators */\n",
              "  background-image: linear-gradient(var(--sklearn-color-text-on-default-background), var(--sklearn-color-text-on-default-background));\n",
              "  background-size: 2px 100%;\n",
              "  background-repeat: no-repeat;\n",
              "  background-position: center center;\n",
              "}\n",
              "\n",
              "/* Parallel-specific style estimator block */\n",
              "\n",
              "#sk-container-id-2 div.sk-parallel-item::after {\n",
              "  content: \"\";\n",
              "  width: 100%;\n",
              "  border-bottom: 2px solid var(--sklearn-color-text-on-default-background);\n",
              "  flex-grow: 1;\n",
              "}\n",
              "\n",
              "#sk-container-id-2 div.sk-parallel {\n",
              "  display: flex;\n",
              "  align-items: stretch;\n",
              "  justify-content: center;\n",
              "  background-color: var(--sklearn-color-background);\n",
              "  position: relative;\n",
              "}\n",
              "\n",
              "#sk-container-id-2 div.sk-parallel-item {\n",
              "  display: flex;\n",
              "  flex-direction: column;\n",
              "}\n",
              "\n",
              "#sk-container-id-2 div.sk-parallel-item:first-child::after {\n",
              "  align-self: flex-end;\n",
              "  width: 50%;\n",
              "}\n",
              "\n",
              "#sk-container-id-2 div.sk-parallel-item:last-child::after {\n",
              "  align-self: flex-start;\n",
              "  width: 50%;\n",
              "}\n",
              "\n",
              "#sk-container-id-2 div.sk-parallel-item:only-child::after {\n",
              "  width: 0;\n",
              "}\n",
              "\n",
              "/* Serial-specific style estimator block */\n",
              "\n",
              "#sk-container-id-2 div.sk-serial {\n",
              "  display: flex;\n",
              "  flex-direction: column;\n",
              "  align-items: center;\n",
              "  background-color: var(--sklearn-color-background);\n",
              "  padding-right: 1em;\n",
              "  padding-left: 1em;\n",
              "}\n",
              "\n",
              "\n",
              "/* Toggleable style: style used for estimator/Pipeline/ColumnTransformer box that is\n",
              "clickable and can be expanded/collapsed.\n",
              "- Pipeline and ColumnTransformer use this feature and define the default style\n",
              "- Estimators will overwrite some part of the style using the `sk-estimator` class\n",
              "*/\n",
              "\n",
              "/* Pipeline and ColumnTransformer style (default) */\n",
              "\n",
              "#sk-container-id-2 div.sk-toggleable {\n",
              "  /* Default theme specific background. It is overwritten whether we have a\n",
              "  specific estimator or a Pipeline/ColumnTransformer */\n",
              "  background-color: var(--sklearn-color-background);\n",
              "}\n",
              "\n",
              "/* Toggleable label */\n",
              "#sk-container-id-2 label.sk-toggleable__label {\n",
              "  cursor: pointer;\n",
              "  display: flex;\n",
              "  width: 100%;\n",
              "  margin-bottom: 0;\n",
              "  padding: 0.5em;\n",
              "  box-sizing: border-box;\n",
              "  text-align: center;\n",
              "  align-items: start;\n",
              "  justify-content: space-between;\n",
              "  gap: 0.5em;\n",
              "}\n",
              "\n",
              "#sk-container-id-2 label.sk-toggleable__label .caption {\n",
              "  font-size: 0.6rem;\n",
              "  font-weight: lighter;\n",
              "  color: var(--sklearn-color-text-muted);\n",
              "}\n",
              "\n",
              "#sk-container-id-2 label.sk-toggleable__label-arrow:before {\n",
              "  /* Arrow on the left of the label */\n",
              "  content: \"▸\";\n",
              "  float: left;\n",
              "  margin-right: 0.25em;\n",
              "  color: var(--sklearn-color-icon);\n",
              "}\n",
              "\n",
              "#sk-container-id-2 label.sk-toggleable__label-arrow:hover:before {\n",
              "  color: var(--sklearn-color-text);\n",
              "}\n",
              "\n",
              "/* Toggleable content - dropdown */\n",
              "\n",
              "#sk-container-id-2 div.sk-toggleable__content {\n",
              "  max-height: 0;\n",
              "  max-width: 0;\n",
              "  overflow: hidden;\n",
              "  text-align: left;\n",
              "  /* unfitted */\n",
              "  background-color: var(--sklearn-color-unfitted-level-0);\n",
              "}\n",
              "\n",
              "#sk-container-id-2 div.sk-toggleable__content.fitted {\n",
              "  /* fitted */\n",
              "  background-color: var(--sklearn-color-fitted-level-0);\n",
              "}\n",
              "\n",
              "#sk-container-id-2 div.sk-toggleable__content pre {\n",
              "  margin: 0.2em;\n",
              "  border-radius: 0.25em;\n",
              "  color: var(--sklearn-color-text);\n",
              "  /* unfitted */\n",
              "  background-color: var(--sklearn-color-unfitted-level-0);\n",
              "}\n",
              "\n",
              "#sk-container-id-2 div.sk-toggleable__content.fitted pre {\n",
              "  /* unfitted */\n",
              "  background-color: var(--sklearn-color-fitted-level-0);\n",
              "}\n",
              "\n",
              "#sk-container-id-2 input.sk-toggleable__control:checked~div.sk-toggleable__content {\n",
              "  /* Expand drop-down */\n",
              "  max-height: 200px;\n",
              "  max-width: 100%;\n",
              "  overflow: auto;\n",
              "}\n",
              "\n",
              "#sk-container-id-2 input.sk-toggleable__control:checked~label.sk-toggleable__label-arrow:before {\n",
              "  content: \"▾\";\n",
              "}\n",
              "\n",
              "/* Pipeline/ColumnTransformer-specific style */\n",
              "\n",
              "#sk-container-id-2 div.sk-label input.sk-toggleable__control:checked~label.sk-toggleable__label {\n",
              "  color: var(--sklearn-color-text);\n",
              "  background-color: var(--sklearn-color-unfitted-level-2);\n",
              "}\n",
              "\n",
              "#sk-container-id-2 div.sk-label.fitted input.sk-toggleable__control:checked~label.sk-toggleable__label {\n",
              "  background-color: var(--sklearn-color-fitted-level-2);\n",
              "}\n",
              "\n",
              "/* Estimator-specific style */\n",
              "\n",
              "/* Colorize estimator box */\n",
              "#sk-container-id-2 div.sk-estimator input.sk-toggleable__control:checked~label.sk-toggleable__label {\n",
              "  /* unfitted */\n",
              "  background-color: var(--sklearn-color-unfitted-level-2);\n",
              "}\n",
              "\n",
              "#sk-container-id-2 div.sk-estimator.fitted input.sk-toggleable__control:checked~label.sk-toggleable__label {\n",
              "  /* fitted */\n",
              "  background-color: var(--sklearn-color-fitted-level-2);\n",
              "}\n",
              "\n",
              "#sk-container-id-2 div.sk-label label.sk-toggleable__label,\n",
              "#sk-container-id-2 div.sk-label label {\n",
              "  /* The background is the default theme color */\n",
              "  color: var(--sklearn-color-text-on-default-background);\n",
              "}\n",
              "\n",
              "/* On hover, darken the color of the background */\n",
              "#sk-container-id-2 div.sk-label:hover label.sk-toggleable__label {\n",
              "  color: var(--sklearn-color-text);\n",
              "  background-color: var(--sklearn-color-unfitted-level-2);\n",
              "}\n",
              "\n",
              "/* Label box, darken color on hover, fitted */\n",
              "#sk-container-id-2 div.sk-label.fitted:hover label.sk-toggleable__label.fitted {\n",
              "  color: var(--sklearn-color-text);\n",
              "  background-color: var(--sklearn-color-fitted-level-2);\n",
              "}\n",
              "\n",
              "/* Estimator label */\n",
              "\n",
              "#sk-container-id-2 div.sk-label label {\n",
              "  font-family: monospace;\n",
              "  font-weight: bold;\n",
              "  display: inline-block;\n",
              "  line-height: 1.2em;\n",
              "}\n",
              "\n",
              "#sk-container-id-2 div.sk-label-container {\n",
              "  text-align: center;\n",
              "}\n",
              "\n",
              "/* Estimator-specific */\n",
              "#sk-container-id-2 div.sk-estimator {\n",
              "  font-family: monospace;\n",
              "  border: 1px dotted var(--sklearn-color-border-box);\n",
              "  border-radius: 0.25em;\n",
              "  box-sizing: border-box;\n",
              "  margin-bottom: 0.5em;\n",
              "  /* unfitted */\n",
              "  background-color: var(--sklearn-color-unfitted-level-0);\n",
              "}\n",
              "\n",
              "#sk-container-id-2 div.sk-estimator.fitted {\n",
              "  /* fitted */\n",
              "  background-color: var(--sklearn-color-fitted-level-0);\n",
              "}\n",
              "\n",
              "/* on hover */\n",
              "#sk-container-id-2 div.sk-estimator:hover {\n",
              "  /* unfitted */\n",
              "  background-color: var(--sklearn-color-unfitted-level-2);\n",
              "}\n",
              "\n",
              "#sk-container-id-2 div.sk-estimator.fitted:hover {\n",
              "  /* fitted */\n",
              "  background-color: var(--sklearn-color-fitted-level-2);\n",
              "}\n",
              "\n",
              "/* Specification for estimator info (e.g. \"i\" and \"?\") */\n",
              "\n",
              "/* Common style for \"i\" and \"?\" */\n",
              "\n",
              ".sk-estimator-doc-link,\n",
              "a:link.sk-estimator-doc-link,\n",
              "a:visited.sk-estimator-doc-link {\n",
              "  float: right;\n",
              "  font-size: smaller;\n",
              "  line-height: 1em;\n",
              "  font-family: monospace;\n",
              "  background-color: var(--sklearn-color-background);\n",
              "  border-radius: 1em;\n",
              "  height: 1em;\n",
              "  width: 1em;\n",
              "  text-decoration: none !important;\n",
              "  margin-left: 0.5em;\n",
              "  text-align: center;\n",
              "  /* unfitted */\n",
              "  border: var(--sklearn-color-unfitted-level-1) 1pt solid;\n",
              "  color: var(--sklearn-color-unfitted-level-1);\n",
              "}\n",
              "\n",
              ".sk-estimator-doc-link.fitted,\n",
              "a:link.sk-estimator-doc-link.fitted,\n",
              "a:visited.sk-estimator-doc-link.fitted {\n",
              "  /* fitted */\n",
              "  border: var(--sklearn-color-fitted-level-1) 1pt solid;\n",
              "  color: var(--sklearn-color-fitted-level-1);\n",
              "}\n",
              "\n",
              "/* On hover */\n",
              "div.sk-estimator:hover .sk-estimator-doc-link:hover,\n",
              ".sk-estimator-doc-link:hover,\n",
              "div.sk-label-container:hover .sk-estimator-doc-link:hover,\n",
              ".sk-estimator-doc-link:hover {\n",
              "  /* unfitted */\n",
              "  background-color: var(--sklearn-color-unfitted-level-3);\n",
              "  color: var(--sklearn-color-background);\n",
              "  text-decoration: none;\n",
              "}\n",
              "\n",
              "div.sk-estimator.fitted:hover .sk-estimator-doc-link.fitted:hover,\n",
              ".sk-estimator-doc-link.fitted:hover,\n",
              "div.sk-label-container:hover .sk-estimator-doc-link.fitted:hover,\n",
              ".sk-estimator-doc-link.fitted:hover {\n",
              "  /* fitted */\n",
              "  background-color: var(--sklearn-color-fitted-level-3);\n",
              "  color: var(--sklearn-color-background);\n",
              "  text-decoration: none;\n",
              "}\n",
              "\n",
              "/* Span, style for the box shown on hovering the info icon */\n",
              ".sk-estimator-doc-link span {\n",
              "  display: none;\n",
              "  z-index: 9999;\n",
              "  position: relative;\n",
              "  font-weight: normal;\n",
              "  right: .2ex;\n",
              "  padding: .5ex;\n",
              "  margin: .5ex;\n",
              "  width: min-content;\n",
              "  min-width: 20ex;\n",
              "  max-width: 50ex;\n",
              "  color: var(--sklearn-color-text);\n",
              "  box-shadow: 2pt 2pt 4pt #999;\n",
              "  /* unfitted */\n",
              "  background: var(--sklearn-color-unfitted-level-0);\n",
              "  border: .5pt solid var(--sklearn-color-unfitted-level-3);\n",
              "}\n",
              "\n",
              ".sk-estimator-doc-link.fitted span {\n",
              "  /* fitted */\n",
              "  background: var(--sklearn-color-fitted-level-0);\n",
              "  border: var(--sklearn-color-fitted-level-3);\n",
              "}\n",
              "\n",
              ".sk-estimator-doc-link:hover span {\n",
              "  display: block;\n",
              "}\n",
              "\n",
              "/* \"?\"-specific style due to the `<a>` HTML tag */\n",
              "\n",
              "#sk-container-id-2 a.estimator_doc_link {\n",
              "  float: right;\n",
              "  font-size: 1rem;\n",
              "  line-height: 1em;\n",
              "  font-family: monospace;\n",
              "  background-color: var(--sklearn-color-background);\n",
              "  border-radius: 1rem;\n",
              "  height: 1rem;\n",
              "  width: 1rem;\n",
              "  text-decoration: none;\n",
              "  /* unfitted */\n",
              "  color: var(--sklearn-color-unfitted-level-1);\n",
              "  border: var(--sklearn-color-unfitted-level-1) 1pt solid;\n",
              "}\n",
              "\n",
              "#sk-container-id-2 a.estimator_doc_link.fitted {\n",
              "  /* fitted */\n",
              "  border: var(--sklearn-color-fitted-level-1) 1pt solid;\n",
              "  color: var(--sklearn-color-fitted-level-1);\n",
              "}\n",
              "\n",
              "/* On hover */\n",
              "#sk-container-id-2 a.estimator_doc_link:hover {\n",
              "  /* unfitted */\n",
              "  background-color: var(--sklearn-color-unfitted-level-3);\n",
              "  color: var(--sklearn-color-background);\n",
              "  text-decoration: none;\n",
              "}\n",
              "\n",
              "#sk-container-id-2 a.estimator_doc_link.fitted:hover {\n",
              "  /* fitted */\n",
              "  background-color: var(--sklearn-color-fitted-level-3);\n",
              "}\n",
              "</style><div id=\"sk-container-id-2\" class=\"sk-top-container\"><div class=\"sk-text-repr-fallback\"><pre>RandomForestClassifier()</pre><b>In a Jupyter environment, please rerun this cell to show the HTML representation or trust the notebook. <br />On GitHub, the HTML representation is unable to render, please try loading this page with nbviewer.org.</b></div><div class=\"sk-container\" hidden><div class=\"sk-item\"><div class=\"sk-estimator fitted sk-toggleable\"><input class=\"sk-toggleable__control sk-hidden--visually\" id=\"sk-estimator-id-2\" type=\"checkbox\" checked><label for=\"sk-estimator-id-2\" class=\"sk-toggleable__label fitted sk-toggleable__label-arrow\"><div><div>RandomForestClassifier</div></div><div><a class=\"sk-estimator-doc-link fitted\" rel=\"noreferrer\" target=\"_blank\" href=\"https://scikit-learn.org/1.6/modules/generated/sklearn.ensemble.RandomForestClassifier.html\">?<span>Documentation for RandomForestClassifier</span></a><span class=\"sk-estimator-doc-link fitted\">i<span>Fitted</span></span></div></label><div class=\"sk-toggleable__content fitted\"><pre>RandomForestClassifier()</pre></div> </div></div></div></div>"
            ]
          },
          "metadata": {},
          "execution_count": 29
        }
      ]
    },
    {
      "cell_type": "code",
      "source": [
        "y_pred1 = rf_model.predict(xv_test)\n",
        "print(\"Prediction on test data: \",y_pred1)\n",
        "print(\"Accuracy Score on Test Data: \",rf_model.score(xv_test,y_test))"
      ],
      "metadata": {
        "colab": {
          "base_uri": "https://localhost:8080/"
        },
        "id": "sCngds5bV3fV",
        "outputId": "c9951f53-dcd9-4b11-cbe9-84d0c4e0fda8"
      },
      "execution_count": null,
      "outputs": [
        {
          "output_type": "stream",
          "name": "stdout",
          "text": [
            "Prediction on test data:  [1 0 1 ... 1 0 0]\n",
            "Accuracy Score on Test Data:  0.9371937639198218\n"
          ]
        }
      ]
    },
    {
      "cell_type": "markdown",
      "source": [
        "####**Accuracy Checking**"
      ],
      "metadata": {
        "id": "fdpRN0MzLJQv"
      }
    },
    {
      "cell_type": "markdown",
      "source": [
        "**Q8.** Find the accuracy, precison, recall, F1 Score of the model while using Random Forest Classsifier and visualize overall accuracy using confusion matrix."
      ],
      "metadata": {
        "id": "lyg4B7b3YX-1"
      }
    },
    {
      "cell_type": "code",
      "source": [
        "print('Accuracy:', accuracy_score(y_test, y_pred1))\n",
        "print('Precision:', precision_score(y_test, y_pred1))\n",
        "print('Recall:', recall_score(y_test, y_pred1))\n",
        "print('F1 score:', f1_score(y_test, y_pred1))"
      ],
      "metadata": {
        "id": "-saxkm_FKe8X",
        "colab": {
          "base_uri": "https://localhost:8080/"
        },
        "outputId": "ca16d9e6-924b-4abd-a3fd-428aa4fc9d0a"
      },
      "execution_count": null,
      "outputs": [
        {
          "output_type": "stream",
          "name": "stdout",
          "text": [
            "Accuracy: 0.9371937639198218\n",
            "Precision: 0.9376482548288716\n",
            "Recall: 0.9425992164878215\n",
            "F1 score: 0.9401172173617599\n"
          ]
        }
      ]
    },
    {
      "cell_type": "code",
      "source": [
        "from sklearn.metrics import confusion_matrix,ConfusionMatrixDisplay\n",
        "cm= confusion_matrix(y_test,y_pred1)\n",
        "cm_display = ConfusionMatrixDisplay(confusion_matrix = cm)\n",
        "cm_display.plot()\n",
        "plt.show()"
      ],
      "metadata": {
        "colab": {
          "base_uri": "https://localhost:8080/",
          "height": 449
        },
        "id": "nD44KjO3tX3g",
        "outputId": "3534f43b-f0ef-4386-823c-25cb8cf1737b"
      },
      "execution_count": null,
      "outputs": [
        {
          "output_type": "display_data",
          "data": {
            "text/plain": [
              "<Figure size 640x480 with 2 Axes>"
            ],
            "image/png": "[encoded data removed]"
          },
          "metadata": {}
        }
      ]
    },
    {
      "cell_type": "markdown",
      "source": [
        "#**Save the Model using pickle**"
      ],
      "metadata": {
        "id": "L_2hK8LyR1Kj"
      }
    },
    {
      "cell_type": "code",
      "source": [
        "# save the logistic regression model as pickle file\n",
        "import pickle\n",
        "import os\n",
        "\n",
        "filename1 = '/content/drive/My Drive/models/word2vec_logistic_model.pickle'\n",
        "\n",
        "# Create the directory if it doesn't exist\n",
        "output_dir = os.path.dirname(filename1)\n",
        "if not os.path.exists(output_dir):\n",
        "    os.makedirs(output_dir)\n",
        "\n",
        "pickle.dump(logistic_model, open(filename1, 'wb')) #word2vec model"
      ],
      "metadata": {
        "id": "pcmzkeaDGTfH"
      },
      "execution_count": null,
      "outputs": []
    },
    {
      "cell_type": "code",
      "source": [
        "# Load the pickle file and checkout model score\n",
        "loaded_model = pickle.load(open(filename1, 'rb'))\n",
        "result = loaded_model.score(xv_test, y_test)\n",
        "print(result)"
      ],
      "metadata": {
        "colab": {
          "base_uri": "https://localhost:8080/"
        },
        "id": "Y4dOB8p4HMqP",
        "outputId": "b3b60fff-f426-413b-8634-895c56c7b315"
      },
      "execution_count": null,
      "outputs": [
        {
          "output_type": "stream",
          "name": "stdout",
          "text": [
            "0.9434298440979956\n"
          ]
        }
      ]
    },
    {
      "cell_type": "markdown",
      "source": [
        "**Q9.** Save the trained Random Forest Model as pickle/svg file in your desired repository for further use."
      ],
      "metadata": {
        "id": "z5L4E0AxZGZN"
      }
    },
    {
      "cell_type": "code",
      "source": [
        "import pickle\n",
        "\n",
        "with open(\"random_forest_model.pkl\", \"wb\") as f:\n",
        "    pickle.dump(rf_model, f)"
      ],
      "metadata": {
        "id": "jscPGHAdSGMB"
      },
      "execution_count": null,
      "outputs": []
    },
    {
      "cell_type": "markdown",
      "source": [
        "**Q10.** Load that saved model in another Notebook use it on other dataset for fake news detection."
      ],
      "metadata": {
        "id": "AVG0xCw0ZyvF"
      }
    },
    {
      "cell_type": "code",
      "source": [
        "with open(\"random_forest_model.pkl\", \"rb\") as f:\n",
        "    loaded_rf = pickle.load(f)"
      ],
      "metadata": {
        "id": "d7sP4JMyZuit"
      },
      "execution_count": null,
      "outputs": []
    },
    {
      "cell_type": "code",
      "source": [],
      "metadata": {
        "id": "qfdDCeLpKTUu"
      },
      "execution_count": null,
      "outputs": []
    },
    {
      "cell_type": "code",
      "source": [
        "from google.colab import drive\n",
        "drive.mount('/content/drive')\n",
        "with open(\"/content/drive/MyDrive/random_forest_model.pkl\", \"wb\") as f:\n",
        "    pickle.dump(rf_model, f)"
      ],
      "metadata": {
        "id": "xuBdW3cqGegd",
        "outputId": "f5901930-cd2c-45ef-cde0-03e18ca05ed4",
        "colab": {
          "base_uri": "https://localhost:8080/"
        }
      },
      "execution_count": null,
      "outputs": [
        {
          "output_type": "stream",
          "name": "stdout",
          "text": [
            "Drive already mounted at /content/drive; to attempt to forcibly remount, call drive.mount(\"/content/drive\", force_remount=True).\n"
          ]
        }
      ]
    },
    {
      "cell_type": "markdown",
      "source": [
        "**Q11(Optional).**\n",
        "\n",
        "\n",
        "1.  Try to enhance the model's accuracy by using adaboost or any other boosting methods.\n",
        "2.  Use TF-IDF or any other vectorizer instead of Word2Vec and study how much it affects on model's accuracy.\n",
        "\n",
        "\n",
        "\n",
        "\n"
      ],
      "metadata": {
        "id": "2MMFPqDjaffV"
      }
    },
    {
      "cell_type": "markdown",
      "source": [
        "**TF-IDF Vectorization**"
      ],
      "metadata": {
        "id": "9Vorkb-RdM6q"
      }
    },
    {
      "cell_type": "code",
      "source": [
        "from sklearn.feature_extraction.text import TfidfVectorizer\n",
        "\n",
        "# TF-IDF\n",
        "vect_tfidf = TfidfVectorizer(max_features=10000, stop_words=\"english\")\n",
        "x_train_tfidf = vect_tfidf.fit_transform(x_train)\n",
        "x_test_tfidf  = vect_tfidf.transform(x_test)"
      ],
      "metadata": {
        "id": "39-EQqKccnJd"
      },
      "execution_count": null,
      "outputs": []
    },
    {
      "cell_type": "markdown",
      "source": [
        "**AdaBoost**"
      ],
      "metadata": {
        "id": "W2vdjhX2eAm5"
      }
    },
    {
      "cell_type": "code",
      "source": [
        "from sklearn.ensemble import AdaBoostClassifier\n",
        "from sklearn.metrics import accuracy_score\n",
        "\n",
        "ada = AdaBoostClassifier(n_estimators=200, random_state=42)\n",
        "ada.fit(x_train_tfidf, y_train)\n",
        "y_pred_ada = ada.predict(x_test_tfidf)\n",
        "\n",
        "print(\"AdaBoost + TF-IDF Accuracy:\", accuracy_score(y_test, y_pred_ada))"
      ],
      "metadata": {
        "colab": {
          "base_uri": "https://localhost:8080/"
        },
        "id": "lXeQPxQSdky1",
        "outputId": "6dfe3bdb-ab50-433b-8a4c-601b061227f3"
      },
      "execution_count": null,
      "outputs": [
        {
          "output_type": "stream",
          "name": "stdout",
          "text": [
            "AdaBoost + TF-IDF Accuracy: 0.995011135857461\n"
          ]
        }
      ]
    },
    {
      "cell_type": "code",
      "source": [
        "from sklearn.metrics import confusion_matrix,ConfusionMatrixDisplay\n",
        "cm= confusion_matrix(y_test,y_pred_ada)\n",
        "cm_display = ConfusionMatrixDisplay(confusion_matrix = cm)\n",
        "cm_display.plot()\n",
        "plt.show()"
      ],
      "metadata": {
        "colab": {
          "base_uri": "https://localhost:8080/",
          "height": 449
        },
        "id": "5tLp3DP0vh8f",
        "outputId": "523430bc-7d5a-426c-8bc1-0f59c0026a65"
      },
      "execution_count": null,
      "outputs": [
        {
          "output_type": "display_data",
          "data": {
            "text/plain": [
              "<Figure size 640x480 with 2 Axes>"
            ],
            "image/png": "[encoded data removed]"
          },
          "metadata": {}
        }
      ]
    },
    {
      "cell_type": "markdown",
      "source": [
        "**XGBoost**"
      ],
      "metadata": {
        "id": "nMBvS5IeicVL"
      }
    },
    {
      "cell_type": "code",
      "source": [
        "from xgboost import XGBClassifier\n",
        "\n",
        "xgb = XGBClassifier(n_estimators=200, learning_rate=0.1, max_depth=6,\n",
        "                    random_state=42, use_label_encoder=False, eval_metric=\"logloss\")\n",
        "xgb.fit(x_train_tfidf, y_train)\n",
        "y_pred_xgb = xgb.predict(x_test_tfidf)\n",
        "\n",
        "print(\"XGBoost + TF-IDF Accuracy:\", accuracy_score(y_test, y_pred_xgb))\n"
      ],
      "metadata": {
        "colab": {
          "base_uri": "https://localhost:8080/"
        },
        "id": "_zpEs-Z4iISP",
        "outputId": "c7b522df-87df-4e4d-d5d7-48599fe43ada"
      },
      "execution_count": null,
      "outputs": [
        {
          "output_type": "stream",
          "name": "stderr",
          "text": [
            "/usr/local/lib/python3.12/dist-packages/xgboost/training.py:183: UserWarning: [12:12:59] WARNING: /workspace/src/learner.cc:738: \n",
            "Parameters: { \"use_label_encoder\" } are not used.\n",
            "\n",
            "  bst.update(dtrain, iteration=i, fobj=obj)\n"
          ]
        },
        {
          "output_type": "stream",
          "name": "stdout",
          "text": [
            "XGBoost + TF-IDF Accuracy: 0.9966146993318485\n"
          ]
        }
      ]
    },
    {
      "cell_type": "code",
      "source": [
        "from sklearn.metrics import confusion_matrix,ConfusionMatrixDisplay\n",
        "cm= confusion_matrix(y_test,y_pred_xgb)\n",
        "cm_display = ConfusionMatrixDisplay(confusion_matrix = cm)\n",
        "cm_display.plot()\n",
        "plt.show()"
      ],
      "metadata": {
        "colab": {
          "base_uri": "https://localhost:8080/",
          "height": 449
        },
        "id": "_vEO9-xvwTyV",
        "outputId": "3e41ca4f-d197-4826-835d-2f3a03019fdf"
      },
      "execution_count": null,
      "outputs": [
        {
          "output_type": "display_data",
          "data": {
            "text/plain": [
              "<Figure size 640x480 with 2 Axes>"
            ],
            "image/png": "[encoded data removed]"
          },
          "metadata": {}
        }
      ]
    },
    {
      "cell_type": "markdown",
      "source": [
        "**Comparison**\n",
        "\n"
      ],
      "metadata": {
        "id": "TIIFAaVhkD20"
      }
    },
    {
      "cell_type": "code",
      "source": [
        "results = {\n",
        "    \"AdaBoost + TF-IDF\": accuracy_score(y_test, y_pred_ada),\n",
        "    \"XGBoost + TF-IDF\": accuracy_score(y_test, y_pred_xgb),\n",
        "}\n",
        "\n",
        "for model, acc in results.items():\n",
        "    print(f\"{model}: {acc:.4f}\")"
      ],
      "metadata": {
        "colab": {
          "base_uri": "https://localhost:8080/"
        },
        "id": "KlqM5cOHkDOw",
        "outputId": "59bb71df-5a09-4390-d38d-0af7b284cf50"
      },
      "execution_count": null,
      "outputs": [
        {
          "output_type": "stream",
          "name": "stdout",
          "text": [
            "AdaBoost + TF-IDF: 0.9950\n",
            "XGBoost + TF-IDF: 0.9966\n"
          ]
        }
      ]
    }
  ]
}